{
 "cells": [
  {
   "cell_type": "markdown",
   "metadata": {},
   "source": [
    "Importing required packages:"
   ]
  },
  {
   "cell_type": "code",
   "execution_count": 1,
   "metadata": {},
   "outputs": [],
   "source": [
    "import numpy as np\n",
    "import pandas as pd\n",
    "import scipy as sp\n",
    "import warnings\n",
    "import seaborn as sns\n",
    "import matplotlib.pyplot as plt\n",
    "warnings.filterwarnings('ignore')"
   ]
  },
  {
   "cell_type": "code",
   "execution_count": 2,
   "metadata": {
    "scrolled": true
   },
   "outputs": [
    {
     "data": {
      "text/html": [
       "<div>\n",
       "<style scoped>\n",
       "    .dataframe tbody tr th:only-of-type {\n",
       "        vertical-align: middle;\n",
       "    }\n",
       "\n",
       "    .dataframe tbody tr th {\n",
       "        vertical-align: top;\n",
       "    }\n",
       "\n",
       "    .dataframe thead th {\n",
       "        text-align: right;\n",
       "    }\n",
       "</style>\n",
       "<table border=\"1\" class=\"dataframe\">\n",
       "  <thead>\n",
       "    <tr style=\"text-align: right;\">\n",
       "      <th></th>\n",
       "      <th>Rk</th>\n",
       "      <th>Name</th>\n",
       "      <th>Age</th>\n",
       "      <th>Tm</th>\n",
       "      <th>Lg</th>\n",
       "      <th>W</th>\n",
       "      <th>L</th>\n",
       "      <th>W-L%</th>\n",
       "      <th>ERA</th>\n",
       "      <th>G</th>\n",
       "      <th>...</th>\n",
       "      <th>WP</th>\n",
       "      <th>BF</th>\n",
       "      <th>ERA+</th>\n",
       "      <th>FIP</th>\n",
       "      <th>WHIP</th>\n",
       "      <th>H9</th>\n",
       "      <th>HR9</th>\n",
       "      <th>BB9</th>\n",
       "      <th>SO9</th>\n",
       "      <th>SO/W</th>\n",
       "    </tr>\n",
       "  </thead>\n",
       "  <tbody>\n",
       "    <tr>\n",
       "      <td>0</td>\n",
       "      <td>1</td>\n",
       "      <td>AlbertÿAbreu\\abreual01</td>\n",
       "      <td>24</td>\n",
       "      <td>NYY</td>\n",
       "      <td>AL</td>\n",
       "      <td>0</td>\n",
       "      <td>1</td>\n",
       "      <td>0.000</td>\n",
       "      <td>20.25</td>\n",
       "      <td>2</td>\n",
       "      <td>...</td>\n",
       "      <td>0</td>\n",
       "      <td>11</td>\n",
       "      <td>27.0</td>\n",
       "      <td>16.69</td>\n",
       "      <td>4.500</td>\n",
       "      <td>27.0</td>\n",
       "      <td>6.8</td>\n",
       "      <td>13.5</td>\n",
       "      <td>13.5</td>\n",
       "      <td>1.00</td>\n",
       "    </tr>\n",
       "    <tr>\n",
       "      <td>1</td>\n",
       "      <td>2</td>\n",
       "      <td>BryanÿAbreu\\abreubr01</td>\n",
       "      <td>23</td>\n",
       "      <td>HOU</td>\n",
       "      <td>AL</td>\n",
       "      <td>0</td>\n",
       "      <td>0</td>\n",
       "      <td>NaN</td>\n",
       "      <td>2.70</td>\n",
       "      <td>4</td>\n",
       "      <td>...</td>\n",
       "      <td>0</td>\n",
       "      <td>20</td>\n",
       "      <td>183.0</td>\n",
       "      <td>9.49</td>\n",
       "      <td>2.400</td>\n",
       "      <td>2.7</td>\n",
       "      <td>0.0</td>\n",
       "      <td>18.9</td>\n",
       "      <td>8.1</td>\n",
       "      <td>0.43</td>\n",
       "    </tr>\n",
       "    <tr>\n",
       "      <td>2</td>\n",
       "      <td>3</td>\n",
       "      <td>JasonÿAdam\\adamja01</td>\n",
       "      <td>28</td>\n",
       "      <td>CHC</td>\n",
       "      <td>NL</td>\n",
       "      <td>2</td>\n",
       "      <td>1</td>\n",
       "      <td>0.667</td>\n",
       "      <td>3.29</td>\n",
       "      <td>13</td>\n",
       "      <td>...</td>\n",
       "      <td>0</td>\n",
       "      <td>58</td>\n",
       "      <td>138.0</td>\n",
       "      <td>3.78</td>\n",
       "      <td>1.244</td>\n",
       "      <td>5.9</td>\n",
       "      <td>1.3</td>\n",
       "      <td>5.3</td>\n",
       "      <td>13.8</td>\n",
       "      <td>2.63</td>\n",
       "    </tr>\n",
       "    <tr>\n",
       "      <td>3</td>\n",
       "      <td>4</td>\n",
       "      <td>AustinÿAdams\\adamsau02</td>\n",
       "      <td>29</td>\n",
       "      <td>SDP</td>\n",
       "      <td>NL</td>\n",
       "      <td>0</td>\n",
       "      <td>0</td>\n",
       "      <td>NaN</td>\n",
       "      <td>4.50</td>\n",
       "      <td>3</td>\n",
       "      <td>...</td>\n",
       "      <td>1</td>\n",
       "      <td>17</td>\n",
       "      <td>103.0</td>\n",
       "      <td>4.44</td>\n",
       "      <td>1.250</td>\n",
       "      <td>6.8</td>\n",
       "      <td>2.3</td>\n",
       "      <td>4.5</td>\n",
       "      <td>15.8</td>\n",
       "      <td>3.50</td>\n",
       "    </tr>\n",
       "    <tr>\n",
       "      <td>4</td>\n",
       "      <td>5</td>\n",
       "      <td>ChanceÿAdams\\adamsch01</td>\n",
       "      <td>25</td>\n",
       "      <td>KCR</td>\n",
       "      <td>AL</td>\n",
       "      <td>0</td>\n",
       "      <td>0</td>\n",
       "      <td>NaN</td>\n",
       "      <td>9.35</td>\n",
       "      <td>6</td>\n",
       "      <td>...</td>\n",
       "      <td>2</td>\n",
       "      <td>40</td>\n",
       "      <td>51.0</td>\n",
       "      <td>3.31</td>\n",
       "      <td>1.731</td>\n",
       "      <td>15.6</td>\n",
       "      <td>1.0</td>\n",
       "      <td>0.0</td>\n",
       "      <td>6.2</td>\n",
       "      <td>NaN</td>\n",
       "    </tr>\n",
       "  </tbody>\n",
       "</table>\n",
       "<p>5 rows × 35 columns</p>\n",
       "</div>"
      ],
      "text/plain": [
       "   Rk                    Name  Age   Tm  Lg  W  L   W-L%    ERA   G  ...  WP  \\\n",
       "0   1  AlbertÿAbreu\\abreual01   24  NYY  AL  0  1  0.000  20.25   2  ...   0   \n",
       "1   2   BryanÿAbreu\\abreubr01   23  HOU  AL  0  0    NaN   2.70   4  ...   0   \n",
       "2   3     JasonÿAdam\\adamja01   28  CHC  NL  2  1  0.667   3.29  13  ...   0   \n",
       "3   4  AustinÿAdams\\adamsau02   29  SDP  NL  0  0    NaN   4.50   3  ...   1   \n",
       "4   5  ChanceÿAdams\\adamsch01   25  KCR  AL  0  0    NaN   9.35   6  ...   2   \n",
       "\n",
       "   BF   ERA+    FIP   WHIP    H9  HR9   BB9   SO9  SO/W  \n",
       "0  11   27.0  16.69  4.500  27.0  6.8  13.5  13.5  1.00  \n",
       "1  20  183.0   9.49  2.400   2.7  0.0  18.9   8.1  0.43  \n",
       "2  58  138.0   3.78  1.244   5.9  1.3   5.3  13.8  2.63  \n",
       "3  17  103.0   4.44  1.250   6.8  2.3   4.5  15.8  3.50  \n",
       "4  40   51.0   3.31  1.731  15.6  1.0   0.0   6.2   NaN  \n",
       "\n",
       "[5 rows x 35 columns]"
      ]
     },
     "execution_count": 2,
     "metadata": {},
     "output_type": "execute_result"
    }
   ],
   "source": [
    "# ps2020 stands for pitching_stats 2020:\n",
    "data_ps2020 = pd.read_excel(\"pitching_stats.xls\")\n",
    "data_ps2020.head()"
   ]
  },
  {
   "cell_type": "markdown",
   "metadata": {},
   "source": [
    "# Model Alterations\n",
    "    RK: Rank \n",
    "    G: Games\n",
    "    GS: Games started\n",
    "    IP: Innings pitched\n",
    "    ER: Earned runs\n",
    "    K: Strikeouts\n",
    "    SV: Saves\n",
    "    SHO: Shutouts\n",
    "    W-L: Wins-Losses\n",
    "    \n",
    "    CYP: In The Neyer/James Guide To Pitchers -- co-authored by Bill James and ESPN.com's Rob Neyer presents a method, based on past results, to predict Cy Young balloting. This report provides an in-season snapshot of the Cy Young \"race,\" as figured by the following formula: Cy Young Points \n",
    "    \n",
    "    (CYP) = ((5*IP/9)-ER) + (SO/12) + (SV*2.5) + Shutouts + ((W*6)-(L*2)) + VB \n",
    "    VB: Victory Bonus is a 12-point bonus awarded for leading your team to the division championship. (***Is not included in the model.)"
   ]
  },
  {
   "cell_type": "code",
   "execution_count": 3,
   "metadata": {},
   "outputs": [],
   "source": [
    "#cyp for each row:\n",
    "ip,er,so,sv,shutouts,w,l  = data_ps2020[\"IP\"],data_ps2020[\"ER\"],data_ps2020[\"SO\"],data_ps2020[\"SV\"],data_ps2020[\"SHO\"],data_ps2020[\"W\"],data_ps2020[\"L\"]\n",
    "CYP = []\n",
    "for i in range(data_ps2020.shape[0]):\n",
    "    cyp = [5 * (ip[i] / 9)] - er[i] +(so[i] / 12) + (sv[i] * 2.5)+ shutouts [i] +((w[i] * 6) - (l[i] * 2)) + 0\n",
    "    CYP.append(int(cyp))\n",
    "data_ps2020[\"CYP\"] = CYP"
   ]
  },
  {
   "cell_type": "markdown",
   "metadata": {},
   "source": [
    "### Top 30 MLB starters"
   ]
  },
  {
   "cell_type": "code",
   "execution_count": 4,
   "metadata": {},
   "outputs": [
    {
     "data": {
      "text/html": [
       "<div>\n",
       "<style scoped>\n",
       "    .dataframe tbody tr th:only-of-type {\n",
       "        vertical-align: middle;\n",
       "    }\n",
       "\n",
       "    .dataframe tbody tr th {\n",
       "        vertical-align: top;\n",
       "    }\n",
       "\n",
       "    .dataframe thead th {\n",
       "        text-align: right;\n",
       "    }\n",
       "</style>\n",
       "<table border=\"1\" class=\"dataframe\">\n",
       "  <thead>\n",
       "    <tr style=\"text-align: right;\">\n",
       "      <th></th>\n",
       "      <th>Name</th>\n",
       "      <th>Tm</th>\n",
       "      <th>Lg</th>\n",
       "      <th>GS</th>\n",
       "      <th>IP</th>\n",
       "      <th>ER</th>\n",
       "      <th>SO</th>\n",
       "      <th>SV</th>\n",
       "      <th>SHO</th>\n",
       "      <th>W</th>\n",
       "      <th>L</th>\n",
       "      <th>CYP</th>\n",
       "    </tr>\n",
       "  </thead>\n",
       "  <tbody>\n",
       "    <tr>\n",
       "      <td>65</td>\n",
       "      <td>ShaneÿBieber\\biebesh01</td>\n",
       "      <td>CLE</td>\n",
       "      <td>AL</td>\n",
       "      <td>12</td>\n",
       "      <td>77.1</td>\n",
       "      <td>14</td>\n",
       "      <td>122</td>\n",
       "      <td>0</td>\n",
       "      <td>0</td>\n",
       "      <td>8</td>\n",
       "      <td>1</td>\n",
       "      <td>85</td>\n",
       "    </tr>\n",
       "    <tr>\n",
       "      <td>164</td>\n",
       "      <td>YuÿDarvish\\darviyu01</td>\n",
       "      <td>CHC</td>\n",
       "      <td>NL</td>\n",
       "      <td>12</td>\n",
       "      <td>76.0</td>\n",
       "      <td>17</td>\n",
       "      <td>93</td>\n",
       "      <td>0</td>\n",
       "      <td>0</td>\n",
       "      <td>8</td>\n",
       "      <td>3</td>\n",
       "      <td>74</td>\n",
       "    </tr>\n",
       "    <tr>\n",
       "      <td>233</td>\n",
       "      <td>MaxÿFried*\\friedma01</td>\n",
       "      <td>ATL</td>\n",
       "      <td>NL</td>\n",
       "      <td>11</td>\n",
       "      <td>56.0</td>\n",
       "      <td>14</td>\n",
       "      <td>50</td>\n",
       "      <td>0</td>\n",
       "      <td>0</td>\n",
       "      <td>7</td>\n",
       "      <td>0</td>\n",
       "      <td>63</td>\n",
       "    </tr>\n",
       "    <tr>\n",
       "      <td>146</td>\n",
       "      <td>GerritÿCole\\colege01</td>\n",
       "      <td>NYY</td>\n",
       "      <td>AL</td>\n",
       "      <td>12</td>\n",
       "      <td>73.0</td>\n",
       "      <td>23</td>\n",
       "      <td>94</td>\n",
       "      <td>0</td>\n",
       "      <td>1</td>\n",
       "      <td>7</td>\n",
       "      <td>3</td>\n",
       "      <td>62</td>\n",
       "    </tr>\n",
       "    <tr>\n",
       "      <td>50</td>\n",
       "      <td>TrevorÿBauer\\bauertr01</td>\n",
       "      <td>CIN</td>\n",
       "      <td>NL</td>\n",
       "      <td>11</td>\n",
       "      <td>73.0</td>\n",
       "      <td>14</td>\n",
       "      <td>100</td>\n",
       "      <td>0</td>\n",
       "      <td>2</td>\n",
       "      <td>5</td>\n",
       "      <td>4</td>\n",
       "      <td>58</td>\n",
       "    </tr>\n",
       "    <tr>\n",
       "      <td>272</td>\n",
       "      <td>MarcoÿGonzales*\\gonzama02</td>\n",
       "      <td>SEA</td>\n",
       "      <td>AL</td>\n",
       "      <td>11</td>\n",
       "      <td>69.2</td>\n",
       "      <td>24</td>\n",
       "      <td>64</td>\n",
       "      <td>0</td>\n",
       "      <td>0</td>\n",
       "      <td>7</td>\n",
       "      <td>2</td>\n",
       "      <td>57</td>\n",
       "    </tr>\n",
       "    <tr>\n",
       "      <td>443</td>\n",
       "      <td>KentaÿMaeda\\maedake01</td>\n",
       "      <td>MIN</td>\n",
       "      <td>AL</td>\n",
       "      <td>11</td>\n",
       "      <td>66.2</td>\n",
       "      <td>20</td>\n",
       "      <td>80</td>\n",
       "      <td>0</td>\n",
       "      <td>0</td>\n",
       "      <td>6</td>\n",
       "      <td>1</td>\n",
       "      <td>57</td>\n",
       "    </tr>\n",
       "    <tr>\n",
       "      <td>167</td>\n",
       "      <td>ZachÿDavies\\davieza02</td>\n",
       "      <td>SDP</td>\n",
       "      <td>NL</td>\n",
       "      <td>12</td>\n",
       "      <td>69.1</td>\n",
       "      <td>21</td>\n",
       "      <td>63</td>\n",
       "      <td>0</td>\n",
       "      <td>0</td>\n",
       "      <td>7</td>\n",
       "      <td>4</td>\n",
       "      <td>56</td>\n",
       "    </tr>\n",
       "    <tr>\n",
       "      <td>385</td>\n",
       "      <td>DallasÿKeuchel*\\keuchda01</td>\n",
       "      <td>CHW</td>\n",
       "      <td>AL</td>\n",
       "      <td>11</td>\n",
       "      <td>63.1</td>\n",
       "      <td>14</td>\n",
       "      <td>42</td>\n",
       "      <td>0</td>\n",
       "      <td>0</td>\n",
       "      <td>6</td>\n",
       "      <td>2</td>\n",
       "      <td>56</td>\n",
       "    </tr>\n",
       "    <tr>\n",
       "      <td>441</td>\n",
       "      <td>LanceÿLynn\\lynnla01</td>\n",
       "      <td>TEX</td>\n",
       "      <td>AL</td>\n",
       "      <td>13</td>\n",
       "      <td>84.0</td>\n",
       "      <td>31</td>\n",
       "      <td>89</td>\n",
       "      <td>0</td>\n",
       "      <td>0</td>\n",
       "      <td>6</td>\n",
       "      <td>3</td>\n",
       "      <td>53</td>\n",
       "    </tr>\n",
       "    <tr>\n",
       "      <td>325</td>\n",
       "      <td>KyleÿHendricks\\hendrky01</td>\n",
       "      <td>CHC</td>\n",
       "      <td>NL</td>\n",
       "      <td>12</td>\n",
       "      <td>81.1</td>\n",
       "      <td>26</td>\n",
       "      <td>64</td>\n",
       "      <td>0</td>\n",
       "      <td>1</td>\n",
       "      <td>6</td>\n",
       "      <td>5</td>\n",
       "      <td>51</td>\n",
       "    </tr>\n",
       "    <tr>\n",
       "      <td>631</td>\n",
       "      <td>HyunÿJinÿRyu*\\ryuhy01</td>\n",
       "      <td>TOR</td>\n",
       "      <td>AL</td>\n",
       "      <td>12</td>\n",
       "      <td>67.0</td>\n",
       "      <td>20</td>\n",
       "      <td>72</td>\n",
       "      <td>0</td>\n",
       "      <td>0</td>\n",
       "      <td>5</td>\n",
       "      <td>2</td>\n",
       "      <td>49</td>\n",
       "    </tr>\n",
       "    <tr>\n",
       "      <td>49</td>\n",
       "      <td>ChrisÿBassitt\\bassich01</td>\n",
       "      <td>OAK</td>\n",
       "      <td>AL</td>\n",
       "      <td>11</td>\n",
       "      <td>63.0</td>\n",
       "      <td>16</td>\n",
       "      <td>55</td>\n",
       "      <td>0</td>\n",
       "      <td>0</td>\n",
       "      <td>5</td>\n",
       "      <td>2</td>\n",
       "      <td>49</td>\n",
       "    </tr>\n",
       "    <tr>\n",
       "      <td>100</td>\n",
       "      <td>DylanÿBundy\\bundydy01</td>\n",
       "      <td>LAA</td>\n",
       "      <td>AL</td>\n",
       "      <td>11</td>\n",
       "      <td>65.2</td>\n",
       "      <td>24</td>\n",
       "      <td>72</td>\n",
       "      <td>0</td>\n",
       "      <td>0</td>\n",
       "      <td>6</td>\n",
       "      <td>3</td>\n",
       "      <td>48</td>\n",
       "    </tr>\n",
       "    <tr>\n",
       "      <td>175</td>\n",
       "      <td>JacobÿdeGrom\\degroja01</td>\n",
       "      <td>NYM</td>\n",
       "      <td>NL</td>\n",
       "      <td>12</td>\n",
       "      <td>68.0</td>\n",
       "      <td>18</td>\n",
       "      <td>104</td>\n",
       "      <td>0</td>\n",
       "      <td>0</td>\n",
       "      <td>4</td>\n",
       "      <td>2</td>\n",
       "      <td>48</td>\n",
       "    </tr>\n",
       "    <tr>\n",
       "      <td>410</td>\n",
       "      <td>DinelsonÿLamet\\lametdi01</td>\n",
       "      <td>SDP</td>\n",
       "      <td>NL</td>\n",
       "      <td>12</td>\n",
       "      <td>69.0</td>\n",
       "      <td>16</td>\n",
       "      <td>93</td>\n",
       "      <td>0</td>\n",
       "      <td>0</td>\n",
       "      <td>3</td>\n",
       "      <td>1</td>\n",
       "      <td>46</td>\n",
       "    </tr>\n",
       "    <tr>\n",
       "      <td>521</td>\n",
       "      <td>AaronÿNola\\nolaaa01</td>\n",
       "      <td>PHI</td>\n",
       "      <td>NL</td>\n",
       "      <td>12</td>\n",
       "      <td>71.1</td>\n",
       "      <td>26</td>\n",
       "      <td>96</td>\n",
       "      <td>0</td>\n",
       "      <td>1</td>\n",
       "      <td>5</td>\n",
       "      <td>5</td>\n",
       "      <td>42</td>\n",
       "    </tr>\n",
       "    <tr>\n",
       "      <td>268</td>\n",
       "      <td>TylerÿGlasnow\\glasnty01</td>\n",
       "      <td>TBR</td>\n",
       "      <td>AL</td>\n",
       "      <td>11</td>\n",
       "      <td>57.1</td>\n",
       "      <td>26</td>\n",
       "      <td>91</td>\n",
       "      <td>0</td>\n",
       "      <td>0</td>\n",
       "      <td>5</td>\n",
       "      <td>1</td>\n",
       "      <td>41</td>\n",
       "    </tr>\n",
       "    <tr>\n",
       "      <td>431</td>\n",
       "      <td>PabloÿLopez\\lopezpa01</td>\n",
       "      <td>MIA</td>\n",
       "      <td>NL</td>\n",
       "      <td>11</td>\n",
       "      <td>57.1</td>\n",
       "      <td>23</td>\n",
       "      <td>59</td>\n",
       "      <td>0</td>\n",
       "      <td>0</td>\n",
       "      <td>6</td>\n",
       "      <td>4</td>\n",
       "      <td>41</td>\n",
       "    </tr>\n",
       "    <tr>\n",
       "      <td>767</td>\n",
       "      <td>ZackÿWheeler\\wheelza01</td>\n",
       "      <td>PHI</td>\n",
       "      <td>NL</td>\n",
       "      <td>11</td>\n",
       "      <td>71.0</td>\n",
       "      <td>23</td>\n",
       "      <td>53</td>\n",
       "      <td>0</td>\n",
       "      <td>0</td>\n",
       "      <td>4</td>\n",
       "      <td>2</td>\n",
       "      <td>40</td>\n",
       "    </tr>\n",
       "    <tr>\n",
       "      <td>652</td>\n",
       "      <td>AntonioÿSenzatela\\senzaan01</td>\n",
       "      <td>COL</td>\n",
       "      <td>NL</td>\n",
       "      <td>12</td>\n",
       "      <td>73.1</td>\n",
       "      <td>28</td>\n",
       "      <td>41</td>\n",
       "      <td>0</td>\n",
       "      <td>0</td>\n",
       "      <td>5</td>\n",
       "      <td>3</td>\n",
       "      <td>40</td>\n",
       "    </tr>\n",
       "    <tr>\n",
       "      <td>264</td>\n",
       "      <td>LucasÿGiolito\\giolilu01</td>\n",
       "      <td>CHW</td>\n",
       "      <td>AL</td>\n",
       "      <td>12</td>\n",
       "      <td>72.1</td>\n",
       "      <td>28</td>\n",
       "      <td>97</td>\n",
       "      <td>0</td>\n",
       "      <td>1</td>\n",
       "      <td>4</td>\n",
       "      <td>3</td>\n",
       "      <td>39</td>\n",
       "    </tr>\n",
       "    <tr>\n",
       "      <td>283</td>\n",
       "      <td>SonnyÿGray\\grayso01</td>\n",
       "      <td>CIN</td>\n",
       "      <td>NL</td>\n",
       "      <td>11</td>\n",
       "      <td>56.0</td>\n",
       "      <td>23</td>\n",
       "      <td>72</td>\n",
       "      <td>0</td>\n",
       "      <td>0</td>\n",
       "      <td>5</td>\n",
       "      <td>3</td>\n",
       "      <td>38</td>\n",
       "    </tr>\n",
       "    <tr>\n",
       "      <td>645</td>\n",
       "      <td>MaxÿScherzer\\scherma01</td>\n",
       "      <td>WSN</td>\n",
       "      <td>NL</td>\n",
       "      <td>12</td>\n",
       "      <td>67.1</td>\n",
       "      <td>28</td>\n",
       "      <td>92</td>\n",
       "      <td>0</td>\n",
       "      <td>0</td>\n",
       "      <td>5</td>\n",
       "      <td>4</td>\n",
       "      <td>38</td>\n",
       "    </tr>\n",
       "    <tr>\n",
       "      <td>242</td>\n",
       "      <td>ZacÿGallen\\galleza01</td>\n",
       "      <td>ARI</td>\n",
       "      <td>NL</td>\n",
       "      <td>12</td>\n",
       "      <td>72.0</td>\n",
       "      <td>22</td>\n",
       "      <td>82</td>\n",
       "      <td>0</td>\n",
       "      <td>0</td>\n",
       "      <td>3</td>\n",
       "      <td>2</td>\n",
       "      <td>38</td>\n",
       "    </tr>\n",
       "    <tr>\n",
       "      <td>218</td>\n",
       "      <td>MikeÿFiers\\fiersmi01</td>\n",
       "      <td>OAK</td>\n",
       "      <td>AL</td>\n",
       "      <td>11</td>\n",
       "      <td>59.0</td>\n",
       "      <td>30</td>\n",
       "      <td>37</td>\n",
       "      <td>0</td>\n",
       "      <td>0</td>\n",
       "      <td>6</td>\n",
       "      <td>3</td>\n",
       "      <td>35</td>\n",
       "    </tr>\n",
       "    <tr>\n",
       "      <td>677</td>\n",
       "      <td>BlakeÿSnell*\\snellbl01</td>\n",
       "      <td>TBR</td>\n",
       "      <td>AL</td>\n",
       "      <td>11</td>\n",
       "      <td>50.0</td>\n",
       "      <td>18</td>\n",
       "      <td>63</td>\n",
       "      <td>0</td>\n",
       "      <td>0</td>\n",
       "      <td>4</td>\n",
       "      <td>2</td>\n",
       "      <td>35</td>\n",
       "    </tr>\n",
       "    <tr>\n",
       "      <td>755</td>\n",
       "      <td>TaijuanÿWalker\\walketa01</td>\n",
       "      <td>TOT</td>\n",
       "      <td>AL</td>\n",
       "      <td>11</td>\n",
       "      <td>53.1</td>\n",
       "      <td>16</td>\n",
       "      <td>50</td>\n",
       "      <td>0</td>\n",
       "      <td>0</td>\n",
       "      <td>4</td>\n",
       "      <td>3</td>\n",
       "      <td>35</td>\n",
       "    </tr>\n",
       "    <tr>\n",
       "      <td>60</td>\n",
       "      <td>JoseÿBerrios\\berrijo01</td>\n",
       "      <td>MIN</td>\n",
       "      <td>AL</td>\n",
       "      <td>12</td>\n",
       "      <td>63.0</td>\n",
       "      <td>28</td>\n",
       "      <td>68</td>\n",
       "      <td>0</td>\n",
       "      <td>0</td>\n",
       "      <td>5</td>\n",
       "      <td>4</td>\n",
       "      <td>34</td>\n",
       "    </tr>\n",
       "    <tr>\n",
       "      <td>116</td>\n",
       "      <td>LuisÿCastillo\\castilu02</td>\n",
       "      <td>CIN</td>\n",
       "      <td>NL</td>\n",
       "      <td>12</td>\n",
       "      <td>70.0</td>\n",
       "      <td>25</td>\n",
       "      <td>89</td>\n",
       "      <td>0</td>\n",
       "      <td>0</td>\n",
       "      <td>4</td>\n",
       "      <td>6</td>\n",
       "      <td>33</td>\n",
       "    </tr>\n",
       "  </tbody>\n",
       "</table>\n",
       "</div>"
      ],
      "text/plain": [
       "                            Name   Tm  Lg  GS    IP  ER   SO  SV  SHO  W  L  \\\n",
       "65        ShaneÿBieber\\biebesh01  CLE  AL  12  77.1  14  122   0    0  8  1   \n",
       "164         YuÿDarvish\\darviyu01  CHC  NL  12  76.0  17   93   0    0  8  3   \n",
       "233         MaxÿFried*\\friedma01  ATL  NL  11  56.0  14   50   0    0  7  0   \n",
       "146         GerritÿCole\\colege01  NYY  AL  12  73.0  23   94   0    1  7  3   \n",
       "50        TrevorÿBauer\\bauertr01  CIN  NL  11  73.0  14  100   0    2  5  4   \n",
       "272    MarcoÿGonzales*\\gonzama02  SEA  AL  11  69.2  24   64   0    0  7  2   \n",
       "443        KentaÿMaeda\\maedake01  MIN  AL  11  66.2  20   80   0    0  6  1   \n",
       "167        ZachÿDavies\\davieza02  SDP  NL  12  69.1  21   63   0    0  7  4   \n",
       "385    DallasÿKeuchel*\\keuchda01  CHW  AL  11  63.1  14   42   0    0  6  2   \n",
       "441          LanceÿLynn\\lynnla01  TEX  AL  13  84.0  31   89   0    0  6  3   \n",
       "325     KyleÿHendricks\\hendrky01  CHC  NL  12  81.1  26   64   0    1  6  5   \n",
       "631        HyunÿJinÿRyu*\\ryuhy01  TOR  AL  12  67.0  20   72   0    0  5  2   \n",
       "49       ChrisÿBassitt\\bassich01  OAK  AL  11  63.0  16   55   0    0  5  2   \n",
       "100        DylanÿBundy\\bundydy01  LAA  AL  11  65.2  24   72   0    0  6  3   \n",
       "175       JacobÿdeGrom\\degroja01  NYM  NL  12  68.0  18  104   0    0  4  2   \n",
       "410     DinelsonÿLamet\\lametdi01  SDP  NL  12  69.0  16   93   0    0  3  1   \n",
       "521          AaronÿNola\\nolaaa01  PHI  NL  12  71.1  26   96   0    1  5  5   \n",
       "268      TylerÿGlasnow\\glasnty01  TBR  AL  11  57.1  26   91   0    0  5  1   \n",
       "431        PabloÿLopez\\lopezpa01  MIA  NL  11  57.1  23   59   0    0  6  4   \n",
       "767       ZackÿWheeler\\wheelza01  PHI  NL  11  71.0  23   53   0    0  4  2   \n",
       "652  AntonioÿSenzatela\\senzaan01  COL  NL  12  73.1  28   41   0    0  5  3   \n",
       "264      LucasÿGiolito\\giolilu01  CHW  AL  12  72.1  28   97   0    1  4  3   \n",
       "283          SonnyÿGray\\grayso01  CIN  NL  11  56.0  23   72   0    0  5  3   \n",
       "645       MaxÿScherzer\\scherma01  WSN  NL  12  67.1  28   92   0    0  5  4   \n",
       "242         ZacÿGallen\\galleza01  ARI  NL  12  72.0  22   82   0    0  3  2   \n",
       "218         MikeÿFiers\\fiersmi01  OAK  AL  11  59.0  30   37   0    0  6  3   \n",
       "677       BlakeÿSnell*\\snellbl01  TBR  AL  11  50.0  18   63   0    0  4  2   \n",
       "755     TaijuanÿWalker\\walketa01  TOT  AL  11  53.1  16   50   0    0  4  3   \n",
       "60        JoseÿBerrios\\berrijo01  MIN  AL  12  63.0  28   68   0    0  5  4   \n",
       "116      LuisÿCastillo\\castilu02  CIN  NL  12  70.0  25   89   0    0  4  6   \n",
       "\n",
       "     CYP  \n",
       "65    85  \n",
       "164   74  \n",
       "233   63  \n",
       "146   62  \n",
       "50    58  \n",
       "272   57  \n",
       "443   57  \n",
       "167   56  \n",
       "385   56  \n",
       "441   53  \n",
       "325   51  \n",
       "631   49  \n",
       "49    49  \n",
       "100   48  \n",
       "175   48  \n",
       "410   46  \n",
       "521   42  \n",
       "268   41  \n",
       "431   41  \n",
       "767   40  \n",
       "652   40  \n",
       "264   39  \n",
       "283   38  \n",
       "645   38  \n",
       "242   38  \n",
       "218   35  \n",
       "677   35  \n",
       "755   35  \n",
       "60    34  \n",
       "116   33  "
      ]
     },
     "execution_count": 4,
     "metadata": {},
     "output_type": "execute_result"
    }
   ],
   "source": [
    "filtered_data2020 = data_ps2020[(data_ps2020[\"GS\"] > 10) & (data_ps2020[\"CYP\"] > 32)].sort_values(\"CYP\", ascending=False)\n",
    "filtered_data2020 = filtered_data2020 [['Name','Tm','Lg','GS','IP','ER','SO','SV','SHO','W','L','CYP']]\n",
    "filtered_data2020"
   ]
  },
  {
   "cell_type": "code",
   "execution_count": 5,
   "metadata": {},
   "outputs": [
    {
     "data": {
      "text/html": [
       "<div>\n",
       "<style scoped>\n",
       "    .dataframe tbody tr th:only-of-type {\n",
       "        vertical-align: middle;\n",
       "    }\n",
       "\n",
       "    .dataframe tbody tr th {\n",
       "        vertical-align: top;\n",
       "    }\n",
       "\n",
       "    .dataframe thead th {\n",
       "        text-align: right;\n",
       "    }\n",
       "</style>\n",
       "<table border=\"1\" class=\"dataframe\">\n",
       "  <thead>\n",
       "    <tr style=\"text-align: right;\">\n",
       "      <th></th>\n",
       "      <th>count</th>\n",
       "      <th>mean</th>\n",
       "      <th>std</th>\n",
       "      <th>min</th>\n",
       "      <th>25%</th>\n",
       "      <th>50%</th>\n",
       "      <th>75%</th>\n",
       "      <th>max</th>\n",
       "    </tr>\n",
       "  </thead>\n",
       "  <tbody>\n",
       "    <tr>\n",
       "      <td>GS</td>\n",
       "      <td>805.0</td>\n",
       "      <td>2.336646</td>\n",
       "      <td>3.816984</td>\n",
       "      <td>0.0</td>\n",
       "      <td>0.0</td>\n",
       "      <td>0.0</td>\n",
       "      <td>4.0</td>\n",
       "      <td>13.0</td>\n",
       "    </tr>\n",
       "    <tr>\n",
       "      <td>IP</td>\n",
       "      <td>805.0</td>\n",
       "      <td>19.973168</td>\n",
       "      <td>18.098953</td>\n",
       "      <td>0.1</td>\n",
       "      <td>6.0</td>\n",
       "      <td>16.1</td>\n",
       "      <td>26.0</td>\n",
       "      <td>84.0</td>\n",
       "    </tr>\n",
       "    <tr>\n",
       "      <td>ER</td>\n",
       "      <td>805.0</td>\n",
       "      <td>10.063354</td>\n",
       "      <td>8.794770</td>\n",
       "      <td>0.0</td>\n",
       "      <td>4.0</td>\n",
       "      <td>7.0</td>\n",
       "      <td>14.0</td>\n",
       "      <td>45.0</td>\n",
       "    </tr>\n",
       "    <tr>\n",
       "      <td>SO</td>\n",
       "      <td>805.0</td>\n",
       "      <td>20.411180</td>\n",
       "      <td>19.452548</td>\n",
       "      <td>0.0</td>\n",
       "      <td>6.0</td>\n",
       "      <td>16.0</td>\n",
       "      <td>28.0</td>\n",
       "      <td>122.0</td>\n",
       "    </tr>\n",
       "    <tr>\n",
       "      <td>SV</td>\n",
       "      <td>805.0</td>\n",
       "      <td>0.575155</td>\n",
       "      <td>1.846303</td>\n",
       "      <td>0.0</td>\n",
       "      <td>0.0</td>\n",
       "      <td>0.0</td>\n",
       "      <td>0.0</td>\n",
       "      <td>16.0</td>\n",
       "    </tr>\n",
       "    <tr>\n",
       "      <td>SHO</td>\n",
       "      <td>805.0</td>\n",
       "      <td>0.017391</td>\n",
       "      <td>0.139992</td>\n",
       "      <td>0.0</td>\n",
       "      <td>0.0</td>\n",
       "      <td>0.0</td>\n",
       "      <td>0.0</td>\n",
       "      <td>2.0</td>\n",
       "    </tr>\n",
       "    <tr>\n",
       "      <td>W</td>\n",
       "      <td>805.0</td>\n",
       "      <td>1.167702</td>\n",
       "      <td>1.517051</td>\n",
       "      <td>0.0</td>\n",
       "      <td>0.0</td>\n",
       "      <td>1.0</td>\n",
       "      <td>2.0</td>\n",
       "      <td>8.0</td>\n",
       "    </tr>\n",
       "    <tr>\n",
       "      <td>L</td>\n",
       "      <td>805.0</td>\n",
       "      <td>1.177640</td>\n",
       "      <td>1.497758</td>\n",
       "      <td>0.0</td>\n",
       "      <td>0.0</td>\n",
       "      <td>1.0</td>\n",
       "      <td>2.0</td>\n",
       "      <td>9.0</td>\n",
       "    </tr>\n",
       "    <tr>\n",
       "      <td>CYP</td>\n",
       "      <td>805.0</td>\n",
       "      <td>8.660870</td>\n",
       "      <td>14.923621</td>\n",
       "      <td>-24.0</td>\n",
       "      <td>-1.0</td>\n",
       "      <td>4.0</td>\n",
       "      <td>16.0</td>\n",
       "      <td>85.0</td>\n",
       "    </tr>\n",
       "  </tbody>\n",
       "</table>\n",
       "</div>"
      ],
      "text/plain": [
       "     count       mean        std   min  25%   50%   75%    max\n",
       "GS   805.0   2.336646   3.816984   0.0  0.0   0.0   4.0   13.0\n",
       "IP   805.0  19.973168  18.098953   0.1  6.0  16.1  26.0   84.0\n",
       "ER   805.0  10.063354   8.794770   0.0  4.0   7.0  14.0   45.0\n",
       "SO   805.0  20.411180  19.452548   0.0  6.0  16.0  28.0  122.0\n",
       "SV   805.0   0.575155   1.846303   0.0  0.0   0.0   0.0   16.0\n",
       "SHO  805.0   0.017391   0.139992   0.0  0.0   0.0   0.0    2.0\n",
       "W    805.0   1.167702   1.517051   0.0  0.0   1.0   2.0    8.0\n",
       "L    805.0   1.177640   1.497758   0.0  0.0   1.0   2.0    9.0\n",
       "CYP  805.0   8.660870  14.923621 -24.0 -1.0   4.0  16.0   85.0"
      ]
     },
     "execution_count": 5,
     "metadata": {},
     "output_type": "execute_result"
    }
   ],
   "source": [
    "data_ps2020[['GS','IP','ER','SO','SV','SHO','W','L','CYP']].describe().T"
   ]
  },
  {
   "cell_type": "code",
   "execution_count": 6,
   "metadata": {},
   "outputs": [],
   "source": [
    "#cyp for each row in Pitching dataset:\n",
    "data_p = pd.read_csv(\"Pitching.csv\")\n"
   ]
  },
  {
   "cell_type": "code",
   "execution_count": 7,
   "metadata": {},
   "outputs": [
    {
     "data": {
      "text/plain": [
       "(47628, 30)"
      ]
     },
     "execution_count": 7,
     "metadata": {},
     "output_type": "execute_result"
    }
   ],
   "source": [
    "data_p.shape"
   ]
  },
  {
   "cell_type": "code",
   "execution_count": 8,
   "metadata": {},
   "outputs": [],
   "source": [
    "data_p[\"IP\"] =  [int(i/3) for i in data_p[\"IPouts\"]] #since it is mentioned that we can calculate IP by dividing the IPouts by 3;\n",
    "ip,er,so,sv,shutouts,w,l  = data_p[\"IP\"],data_p[\"ER\"],data_p[\"SO\"],data_p[\"SV\"],data_p[\"SHO\"],data_p[\"W\"],data_p[\"L\"]\n",
    "CYP = []\n",
    "for i in range(data_p.shape[0]):\n",
    "    cyp = [(5 * (ip[i] / 9))] - er[i] +(so[i] / 12) + (sv[i] * 2.5)+ shutouts [i] +((w[i] * 6) - (l[i] * 2)) + 0\n",
    "    CYP.append(int(cyp))\n",
    "data_p[\"CYP\"] = CYP"
   ]
  },
  {
   "cell_type": "code",
   "execution_count": 9,
   "metadata": {
    "scrolled": true
   },
   "outputs": [
    {
     "data": {
      "text/html": [
       "<div>\n",
       "<style scoped>\n",
       "    .dataframe tbody tr th:only-of-type {\n",
       "        vertical-align: middle;\n",
       "    }\n",
       "\n",
       "    .dataframe tbody tr th {\n",
       "        vertical-align: top;\n",
       "    }\n",
       "\n",
       "    .dataframe thead th {\n",
       "        text-align: right;\n",
       "    }\n",
       "</style>\n",
       "<table border=\"1\" class=\"dataframe\">\n",
       "  <thead>\n",
       "    <tr style=\"text-align: right;\">\n",
       "      <th></th>\n",
       "      <th>playerID</th>\n",
       "      <th>yearID</th>\n",
       "      <th>stint</th>\n",
       "      <th>teamID</th>\n",
       "      <th>lgID</th>\n",
       "      <th>W</th>\n",
       "      <th>L</th>\n",
       "      <th>G</th>\n",
       "      <th>GS</th>\n",
       "      <th>CG</th>\n",
       "      <th>...</th>\n",
       "      <th>HBP</th>\n",
       "      <th>BK</th>\n",
       "      <th>BFP</th>\n",
       "      <th>GF</th>\n",
       "      <th>R</th>\n",
       "      <th>SH</th>\n",
       "      <th>SF</th>\n",
       "      <th>GIDP</th>\n",
       "      <th>IP</th>\n",
       "      <th>CYP</th>\n",
       "    </tr>\n",
       "  </thead>\n",
       "  <tbody>\n",
       "    <tr>\n",
       "      <td>0</td>\n",
       "      <td>bechtge01</td>\n",
       "      <td>1871</td>\n",
       "      <td>1</td>\n",
       "      <td>PH1</td>\n",
       "      <td>NaN</td>\n",
       "      <td>1</td>\n",
       "      <td>2</td>\n",
       "      <td>3</td>\n",
       "      <td>3</td>\n",
       "      <td>2</td>\n",
       "      <td>...</td>\n",
       "      <td>NaN</td>\n",
       "      <td>0</td>\n",
       "      <td>146.0</td>\n",
       "      <td>0</td>\n",
       "      <td>42</td>\n",
       "      <td>NaN</td>\n",
       "      <td>NaN</td>\n",
       "      <td>NaN</td>\n",
       "      <td>26</td>\n",
       "      <td>-6</td>\n",
       "    </tr>\n",
       "    <tr>\n",
       "      <td>1</td>\n",
       "      <td>brainas01</td>\n",
       "      <td>1871</td>\n",
       "      <td>1</td>\n",
       "      <td>WS3</td>\n",
       "      <td>NaN</td>\n",
       "      <td>12</td>\n",
       "      <td>15</td>\n",
       "      <td>30</td>\n",
       "      <td>30</td>\n",
       "      <td>30</td>\n",
       "      <td>...</td>\n",
       "      <td>NaN</td>\n",
       "      <td>0</td>\n",
       "      <td>1291.0</td>\n",
       "      <td>0</td>\n",
       "      <td>292</td>\n",
       "      <td>NaN</td>\n",
       "      <td>NaN</td>\n",
       "      <td>NaN</td>\n",
       "      <td>264</td>\n",
       "      <td>57</td>\n",
       "    </tr>\n",
       "    <tr>\n",
       "      <td>2</td>\n",
       "      <td>fergubo01</td>\n",
       "      <td>1871</td>\n",
       "      <td>1</td>\n",
       "      <td>NY2</td>\n",
       "      <td>NaN</td>\n",
       "      <td>0</td>\n",
       "      <td>0</td>\n",
       "      <td>1</td>\n",
       "      <td>0</td>\n",
       "      <td>0</td>\n",
       "      <td>...</td>\n",
       "      <td>NaN</td>\n",
       "      <td>0</td>\n",
       "      <td>14.0</td>\n",
       "      <td>0</td>\n",
       "      <td>9</td>\n",
       "      <td>NaN</td>\n",
       "      <td>NaN</td>\n",
       "      <td>NaN</td>\n",
       "      <td>1</td>\n",
       "      <td>-2</td>\n",
       "    </tr>\n",
       "    <tr>\n",
       "      <td>3</td>\n",
       "      <td>fishech01</td>\n",
       "      <td>1871</td>\n",
       "      <td>1</td>\n",
       "      <td>RC1</td>\n",
       "      <td>NaN</td>\n",
       "      <td>4</td>\n",
       "      <td>16</td>\n",
       "      <td>24</td>\n",
       "      <td>24</td>\n",
       "      <td>22</td>\n",
       "      <td>...</td>\n",
       "      <td>NaN</td>\n",
       "      <td>0</td>\n",
       "      <td>1080.0</td>\n",
       "      <td>1</td>\n",
       "      <td>257</td>\n",
       "      <td>NaN</td>\n",
       "      <td>NaN</td>\n",
       "      <td>NaN</td>\n",
       "      <td>213</td>\n",
       "      <td>9</td>\n",
       "    </tr>\n",
       "    <tr>\n",
       "      <td>4</td>\n",
       "      <td>fleetfr01</td>\n",
       "      <td>1871</td>\n",
       "      <td>1</td>\n",
       "      <td>NY2</td>\n",
       "      <td>NaN</td>\n",
       "      <td>0</td>\n",
       "      <td>1</td>\n",
       "      <td>1</td>\n",
       "      <td>1</td>\n",
       "      <td>1</td>\n",
       "      <td>...</td>\n",
       "      <td>NaN</td>\n",
       "      <td>0</td>\n",
       "      <td>57.0</td>\n",
       "      <td>0</td>\n",
       "      <td>21</td>\n",
       "      <td>NaN</td>\n",
       "      <td>NaN</td>\n",
       "      <td>NaN</td>\n",
       "      <td>9</td>\n",
       "      <td>-7</td>\n",
       "    </tr>\n",
       "  </tbody>\n",
       "</table>\n",
       "<p>5 rows × 32 columns</p>\n",
       "</div>"
      ],
      "text/plain": [
       "    playerID  yearID  stint teamID lgID   W   L   G  GS  CG  ...  HBP  BK  \\\n",
       "0  bechtge01    1871      1    PH1  NaN   1   2   3   3   2  ...  NaN   0   \n",
       "1  brainas01    1871      1    WS3  NaN  12  15  30  30  30  ...  NaN   0   \n",
       "2  fergubo01    1871      1    NY2  NaN   0   0   1   0   0  ...  NaN   0   \n",
       "3  fishech01    1871      1    RC1  NaN   4  16  24  24  22  ...  NaN   0   \n",
       "4  fleetfr01    1871      1    NY2  NaN   0   1   1   1   1  ...  NaN   0   \n",
       "\n",
       "      BFP  GF    R  SH  SF  GIDP   IP  CYP  \n",
       "0   146.0   0   42 NaN NaN   NaN   26   -6  \n",
       "1  1291.0   0  292 NaN NaN   NaN  264   57  \n",
       "2    14.0   0    9 NaN NaN   NaN    1   -2  \n",
       "3  1080.0   1  257 NaN NaN   NaN  213    9  \n",
       "4    57.0   0   21 NaN NaN   NaN    9   -7  \n",
       "\n",
       "[5 rows x 32 columns]"
      ]
     },
     "execution_count": 9,
     "metadata": {},
     "output_type": "execute_result"
    }
   ],
   "source": [
    "data_p.head()"
   ]
  },
  {
   "cell_type": "code",
   "execution_count": 10,
   "metadata": {},
   "outputs": [],
   "source": [
    "##adding the CYA column based on the CY YOUNG Award recipients table - used on pitching table:\n",
    "# reading AwardsSharePlayers data\n",
    "data_aw = pd.read_csv(\"AwardsSharePlayers.csv\").reset_index(drop = True)"
   ]
  },
  {
   "cell_type": "code",
   "execution_count": 11,
   "metadata": {},
   "outputs": [
    {
     "data": {
      "text/html": [
       "<div>\n",
       "<style scoped>\n",
       "    .dataframe tbody tr th:only-of-type {\n",
       "        vertical-align: middle;\n",
       "    }\n",
       "\n",
       "    .dataframe tbody tr th {\n",
       "        vertical-align: top;\n",
       "    }\n",
       "\n",
       "    .dataframe thead th {\n",
       "        text-align: right;\n",
       "    }\n",
       "</style>\n",
       "<table border=\"1\" class=\"dataframe\">\n",
       "  <thead>\n",
       "    <tr style=\"text-align: right;\">\n",
       "      <th></th>\n",
       "      <th>awardID</th>\n",
       "      <th>yearID</th>\n",
       "      <th>lgID</th>\n",
       "      <th>playerID</th>\n",
       "      <th>pointsWon</th>\n",
       "      <th>pointsMax</th>\n",
       "      <th>votesFirst</th>\n",
       "    </tr>\n",
       "  </thead>\n",
       "  <tbody>\n",
       "    <tr>\n",
       "      <td>0</td>\n",
       "      <td>Cy Young</td>\n",
       "      <td>1956</td>\n",
       "      <td>ML</td>\n",
       "      <td>fordwh01</td>\n",
       "      <td>1.0</td>\n",
       "      <td>16</td>\n",
       "      <td>1.0</td>\n",
       "    </tr>\n",
       "    <tr>\n",
       "      <td>1</td>\n",
       "      <td>Cy Young</td>\n",
       "      <td>1956</td>\n",
       "      <td>ML</td>\n",
       "      <td>maglisa01</td>\n",
       "      <td>4.0</td>\n",
       "      <td>16</td>\n",
       "      <td>4.0</td>\n",
       "    </tr>\n",
       "    <tr>\n",
       "      <td>2</td>\n",
       "      <td>Cy Young</td>\n",
       "      <td>1956</td>\n",
       "      <td>ML</td>\n",
       "      <td>newcodo01</td>\n",
       "      <td>10.0</td>\n",
       "      <td>16</td>\n",
       "      <td>10.0</td>\n",
       "    </tr>\n",
       "    <tr>\n",
       "      <td>3</td>\n",
       "      <td>Cy Young</td>\n",
       "      <td>1956</td>\n",
       "      <td>ML</td>\n",
       "      <td>spahnwa01</td>\n",
       "      <td>1.0</td>\n",
       "      <td>16</td>\n",
       "      <td>1.0</td>\n",
       "    </tr>\n",
       "    <tr>\n",
       "      <td>4</td>\n",
       "      <td>Cy Young</td>\n",
       "      <td>1957</td>\n",
       "      <td>ML</td>\n",
       "      <td>donovdi01</td>\n",
       "      <td>1.0</td>\n",
       "      <td>16</td>\n",
       "      <td>1.0</td>\n",
       "    </tr>\n",
       "  </tbody>\n",
       "</table>\n",
       "</div>"
      ],
      "text/plain": [
       "    awardID  yearID lgID   playerID  pointsWon  pointsMax  votesFirst\n",
       "0  Cy Young    1956   ML   fordwh01        1.0         16         1.0\n",
       "1  Cy Young    1956   ML  maglisa01        4.0         16         4.0\n",
       "2  Cy Young    1956   ML  newcodo01       10.0         16        10.0\n",
       "3  Cy Young    1956   ML  spahnwa01        1.0         16         1.0\n",
       "4  Cy Young    1957   ML  donovdi01        1.0         16         1.0"
      ]
     },
     "execution_count": 11,
     "metadata": {},
     "output_type": "execute_result"
    }
   ],
   "source": [
    "data_aw.head()"
   ]
  },
  {
   "cell_type": "code",
   "execution_count": 12,
   "metadata": {},
   "outputs": [],
   "source": [
    "# 2. Adding awardID to the dataset (0/1 column):\n",
    "data_merged = data_p.merge(data_aw, on=['playerID','yearID'], how='left')\n",
    "# adding 0 or 1 column for CYA and MVP:\n",
    "CYA = []\n",
    "MVP = []\n",
    "for i in range(data_merged.shape[0]):\n",
    "    cya = 0\n",
    "    mvp = 0\n",
    "    if data_merged[\"awardID\"][i] == \"Cy Young\":\n",
    "        cya = 1\n",
    "        mvp =0\n",
    "    elif data_merged[\"awardID\"][i] == \"MVP\":\n",
    "        cya = 0\n",
    "        mvp =1\n",
    "    else:\n",
    "        cya = 0\n",
    "        mvp =0\n",
    "    CYA.append(int(cya))\n",
    "    MVP.append(int(mvp))\n",
    "data_merged [\"CYA\"],data_merged [\"MVP\"] = CYA, MVP\n",
    "\n",
    "data_final = data_merged.drop(['votesFirst','pointsMax','lgID_y','awardID','pointsWon'],axis = 1)\n",
    "\n"
   ]
  },
  {
   "cell_type": "markdown",
   "metadata": {},
   "source": [
    "### Filtering the dataset based on CYP column (for Cy Young Awards):"
   ]
  },
  {
   "cell_type": "code",
   "execution_count": 13,
   "metadata": {},
   "outputs": [],
   "source": [
    "# # filtering from 1950 to 2017\n",
    "data_final_flt = data_final[(data_final[\"yearID\"]>= 1950) & (data_final[\"yearID\"] <= 2017) & (data_final[\"CYP\"] >= 80)].reset_index(drop = True)"
   ]
  },
  {
   "cell_type": "code",
   "execution_count": 14,
   "metadata": {},
   "outputs": [
    {
     "data": {
      "text/html": [
       "<div>\n",
       "<style scoped>\n",
       "    .dataframe tbody tr th:only-of-type {\n",
       "        vertical-align: middle;\n",
       "    }\n",
       "\n",
       "    .dataframe tbody tr th {\n",
       "        vertical-align: top;\n",
       "    }\n",
       "\n",
       "    .dataframe thead th {\n",
       "        text-align: right;\n",
       "    }\n",
       "</style>\n",
       "<table border=\"1\" class=\"dataframe\">\n",
       "  <thead>\n",
       "    <tr style=\"text-align: right;\">\n",
       "      <th></th>\n",
       "      <th>GS</th>\n",
       "      <th>IP</th>\n",
       "      <th>ER</th>\n",
       "      <th>SO</th>\n",
       "      <th>SV</th>\n",
       "      <th>SHO</th>\n",
       "      <th>W</th>\n",
       "      <th>L</th>\n",
       "      <th>CYP</th>\n",
       "    </tr>\n",
       "  </thead>\n",
       "  <tbody>\n",
       "    <tr>\n",
       "      <td>count</td>\n",
       "      <td>5417.000000</td>\n",
       "      <td>5417.000000</td>\n",
       "      <td>5417.000000</td>\n",
       "      <td>5417.000000</td>\n",
       "      <td>5417.000000</td>\n",
       "      <td>5417.000000</td>\n",
       "      <td>5417.000000</td>\n",
       "      <td>5417.000000</td>\n",
       "      <td>5417.000000</td>\n",
       "    </tr>\n",
       "    <tr>\n",
       "      <td>mean</td>\n",
       "      <td>22.472956</td>\n",
       "      <td>180.480524</td>\n",
       "      <td>63.810965</td>\n",
       "      <td>127.874654</td>\n",
       "      <td>7.121100</td>\n",
       "      <td>1.381946</td>\n",
       "      <td>12.606793</td>\n",
       "      <td>8.224663</td>\n",
       "      <td>124.998154</td>\n",
       "    </tr>\n",
       "    <tr>\n",
       "      <td>std</td>\n",
       "      <td>14.462133</td>\n",
       "      <td>69.603613</td>\n",
       "      <td>28.837946</td>\n",
       "      <td>57.312684</td>\n",
       "      <td>12.804018</td>\n",
       "      <td>1.741234</td>\n",
       "      <td>5.321643</td>\n",
       "      <td>3.814078</td>\n",
       "      <td>36.351634</td>\n",
       "    </tr>\n",
       "    <tr>\n",
       "      <td>min</td>\n",
       "      <td>0.000000</td>\n",
       "      <td>31.000000</td>\n",
       "      <td>4.000000</td>\n",
       "      <td>19.000000</td>\n",
       "      <td>0.000000</td>\n",
       "      <td>0.000000</td>\n",
       "      <td>0.000000</td>\n",
       "      <td>0.000000</td>\n",
       "      <td>80.000000</td>\n",
       "    </tr>\n",
       "    <tr>\n",
       "      <td>25%</td>\n",
       "      <td>1.000000</td>\n",
       "      <td>119.000000</td>\n",
       "      <td>37.000000</td>\n",
       "      <td>83.000000</td>\n",
       "      <td>0.000000</td>\n",
       "      <td>0.000000</td>\n",
       "      <td>9.000000</td>\n",
       "      <td>5.000000</td>\n",
       "      <td>96.000000</td>\n",
       "    </tr>\n",
       "    <tr>\n",
       "      <td>50%</td>\n",
       "      <td>30.000000</td>\n",
       "      <td>197.000000</td>\n",
       "      <td>70.000000</td>\n",
       "      <td>122.000000</td>\n",
       "      <td>0.000000</td>\n",
       "      <td>1.000000</td>\n",
       "      <td>13.000000</td>\n",
       "      <td>8.000000</td>\n",
       "      <td>117.000000</td>\n",
       "    </tr>\n",
       "    <tr>\n",
       "      <td>75%</td>\n",
       "      <td>33.000000</td>\n",
       "      <td>231.000000</td>\n",
       "      <td>86.000000</td>\n",
       "      <td>164.000000</td>\n",
       "      <td>9.000000</td>\n",
       "      <td>2.000000</td>\n",
       "      <td>16.000000</td>\n",
       "      <td>11.000000</td>\n",
       "      <td>146.000000</td>\n",
       "    </tr>\n",
       "    <tr>\n",
       "      <td>max</td>\n",
       "      <td>49.000000</td>\n",
       "      <td>376.000000</td>\n",
       "      <td>148.000000</td>\n",
       "      <td>383.000000</td>\n",
       "      <td>62.000000</td>\n",
       "      <td>13.000000</td>\n",
       "      <td>31.000000</td>\n",
       "      <td>21.000000</td>\n",
       "      <td>317.000000</td>\n",
       "    </tr>\n",
       "  </tbody>\n",
       "</table>\n",
       "</div>"
      ],
      "text/plain": [
       "                GS           IP           ER           SO           SV  \\\n",
       "count  5417.000000  5417.000000  5417.000000  5417.000000  5417.000000   \n",
       "mean     22.472956   180.480524    63.810965   127.874654     7.121100   \n",
       "std      14.462133    69.603613    28.837946    57.312684    12.804018   \n",
       "min       0.000000    31.000000     4.000000    19.000000     0.000000   \n",
       "25%       1.000000   119.000000    37.000000    83.000000     0.000000   \n",
       "50%      30.000000   197.000000    70.000000   122.000000     0.000000   \n",
       "75%      33.000000   231.000000    86.000000   164.000000     9.000000   \n",
       "max      49.000000   376.000000   148.000000   383.000000    62.000000   \n",
       "\n",
       "               SHO            W            L          CYP  \n",
       "count  5417.000000  5417.000000  5417.000000  5417.000000  \n",
       "mean      1.381946    12.606793     8.224663   124.998154  \n",
       "std       1.741234     5.321643     3.814078    36.351634  \n",
       "min       0.000000     0.000000     0.000000    80.000000  \n",
       "25%       0.000000     9.000000     5.000000    96.000000  \n",
       "50%       1.000000    13.000000     8.000000   117.000000  \n",
       "75%       2.000000    16.000000    11.000000   146.000000  \n",
       "max      13.000000    31.000000    21.000000   317.000000  "
      ]
     },
     "execution_count": 14,
     "metadata": {},
     "output_type": "execute_result"
    }
   ],
   "source": [
    "data_final_flt[['GS','IP','ER','SO','SV','SHO','W','L','CYP']].describe()"
   ]
  },
  {
   "cell_type": "code",
   "execution_count": 15,
   "metadata": {},
   "outputs": [
    {
     "name": "stdout",
     "output_type": "stream",
     "text": [
      "***whole dataset****\n",
      "0    0.85564\n",
      "1    0.14436\n",
      "Name: CYA, dtype: float64\n"
     ]
    }
   ],
   "source": [
    "# CYA column, value counts:\n",
    "print(f\"***whole dataset****\")\n",
    "print(data_final_flt[\"CYA\"].value_counts(normalize=True))"
   ]
  },
  {
   "cell_type": "code",
   "execution_count": 16,
   "metadata": {},
   "outputs": [
    {
     "data": {
      "image/png": "[encoded data removed]",
      "text/plain": [
       "<Figure size 432x288 with 1 Axes>"
      ]
     },
     "metadata": {
      "needs_background": "light"
     },
     "output_type": "display_data"
    }
   ],
   "source": [
    "import seaborn as sns\n",
    "data_final_flt[\"CYA\"].value_counts(normalize=True).plot(kind='bar');\n",
    "plt.xlabel(\"CYA\", labelpad=14)\n",
    "plt.ylabel(\"Portion\", labelpad=14)\n",
    "plt.title(f\"Portion of CYA awards receivers/none-receivers \\n'Raw Data'\", y=1.02);"
   ]
  },
  {
   "cell_type": "code",
   "execution_count": 32,
   "metadata": {},
   "outputs": [],
   "source": [
    "data_final_flt.to_csv(\"CyYoungAward_Data.csv\")"
   ]
  },
  {
   "cell_type": "code",
   "execution_count": 33,
   "metadata": {},
   "outputs": [],
   "source": [
    "# handling the imbalanced dataset:\n",
    "# upsampling:\n",
    "from sklearn.utils import resample\n",
    "data_majority = data_final_flt[data_final_flt[\"CYA\"]==0]\n",
    "data_minority = data_final_flt[data_final_flt[\"CYA\"]==1]\n",
    "\n",
    "data_minority_upsampled = resample(data_minority, \n",
    "                                 replace=True,     # sample with replacement\n",
    "                                 n_samples=4635,    # to match majority class\n",
    "                                 random_state=123) # reproducible results\n",
    "data_minority_upsampled = pd.concat([data_majority, data_minority_upsampled])"
   ]
  },
  {
   "cell_type": "code",
   "execution_count": 34,
   "metadata": {},
   "outputs": [],
   "source": [
    "data_minority_upsampled[\"CYA\"].value_counts()\n",
    "data = data_minority_upsampled\n"
   ]
  },
  {
   "cell_type": "code",
   "execution_count": 35,
   "metadata": {},
   "outputs": [],
   "source": [
    "data.to_csv(\"CyYoungAward_Data_UpSampled.csv\")"
   ]
  },
  {
   "cell_type": "code",
   "execution_count": 21,
   "metadata": {},
   "outputs": [
    {
     "data": {
      "image/png": "[encoded data removed]",
      "text/plain": [
       "<Figure size 432x288 with 1 Axes>"
      ]
     },
     "metadata": {
      "needs_background": "light"
     },
     "output_type": "display_data"
    }
   ],
   "source": [
    "data[\"CYA\"].value_counts(normalize=True).plot(kind='bar');\n",
    "plt.xlabel(\"CYA\", labelpad=14)\n",
    "plt.ylabel(\"Portion\", labelpad=14)\n",
    "plt.title(f\"Portion of CYA awards receivers/none-receivers \\n'After Over Sampling'\", y=1.02);"
   ]
  },
  {
   "cell_type": "code",
   "execution_count": 22,
   "metadata": {},
   "outputs": [],
   "source": [
    "#spliting the data:\n",
    "from sklearn.model_selection import train_test_split\n",
    "\n",
    "# for CYA:\n",
    "X = data[[\"GS\" ,\"IP\",\"ER\", \"SO\", \"SV\",\"W\" ,\"L\"]]\n",
    "y = data[[\"CYA\"]]\n",
    "\n",
    "x_train, x_test, y_train, y_test = train_test_split (X,y, test_size = 0.2,random_state = 0)"
   ]
  },
  {
   "cell_type": "code",
   "execution_count": 23,
   "metadata": {},
   "outputs": [
    {
     "name": "stdout",
     "output_type": "stream",
     "text": [
      "***train dataset****\n",
      "1    0.501348\n",
      "0    0.498652\n",
      "Name: CYA, dtype: float64\n",
      "****test dataset****\n",
      "0    0.505394\n",
      "1    0.494606\n",
      "Name: CYA, dtype: float64\n"
     ]
    }
   ],
   "source": [
    "#summary of the table:\n",
    "print(f\"***train dataset****\")\n",
    "print(y_train[\"CYA\"].value_counts(normalize=True))\n",
    "print(f\"****test dataset****\")\n",
    "print(y_test[\"CYA\"].value_counts(normalize=True))\n",
    "# data is not imbalanced"
   ]
  },
  {
   "cell_type": "markdown",
   "metadata": {},
   "source": [
    "Train and Test datasets are balanced on CYA column;"
   ]
  },
  {
   "cell_type": "code",
   "execution_count": 24,
   "metadata": {},
   "outputs": [
    {
     "name": "stdout",
     "output_type": "stream",
     "text": [
      "(7416, 1)\n",
      "(7416, 7)\n",
      "(1854, 1)\n",
      "(1854, 7)\n"
     ]
    }
   ],
   "source": [
    "print(y_train.shape)\n",
    "print(x_train.shape)\n",
    "print(y_test.shape)\n",
    "print(x_test.shape)"
   ]
  },
  {
   "cell_type": "markdown",
   "metadata": {},
   "source": [
    "## Logistic Regression:"
   ]
  },
  {
   "cell_type": "code",
   "execution_count": 25,
   "metadata": {},
   "outputs": [
    {
     "data": {
      "text/plain": [
       "LogisticRegression(C=1.0, class_weight=None, dual=False, fit_intercept=True,\n",
       "                   intercept_scaling=1, l1_ratio=None, max_iter=100,\n",
       "                   multi_class='warn', n_jobs=None, penalty='l2',\n",
       "                   random_state=None, solver='warn', tol=0.0001, verbose=0,\n",
       "                   warm_start=False)"
      ]
     },
     "execution_count": 25,
     "metadata": {},
     "output_type": "execute_result"
    }
   ],
   "source": [
    "from sklearn import linear_model\n",
    "from sklearn import metrics\n",
    "from sklearn.metrics import cohen_kappa_score\n",
    "from sklearn.metrics import mean_squared_error\n",
    "from sklearn.metrics import mean_absolute_error\n",
    "from sklearn.metrics import r2_score\n",
    "lr = linear_model.LogisticRegression()\n",
    "lr.fit(x_train,y_train)"
   ]
  },
  {
   "cell_type": "code",
   "execution_count": 26,
   "metadata": {},
   "outputs": [
    {
     "data": {
      "text/plain": [
       "array([[ 0.04392011,  0.0096607 , -0.04362622,  0.01037656,  0.0880325 ,\n",
       "         0.26659833, -0.16374902]])"
      ]
     },
     "execution_count": 26,
     "metadata": {},
     "output_type": "execute_result"
    }
   ],
   "source": [
    "lr.coef_"
   ]
  },
  {
   "cell_type": "code",
   "execution_count": 27,
   "metadata": {},
   "outputs": [
    {
     "data": {
      "text/plain": [
       "array([-4.50405477])"
      ]
     },
     "execution_count": 27,
     "metadata": {},
     "output_type": "execute_result"
    }
   ],
   "source": [
    "lr.intercept_"
   ]
  },
  {
   "cell_type": "code",
   "execution_count": 28,
   "metadata": {},
   "outputs": [
    {
     "data": {
      "text/plain": [
       "(0.7837108953613808, 0.7551240560949298)"
      ]
     },
     "execution_count": 28,
     "metadata": {},
     "output_type": "execute_result"
    }
   ],
   "source": [
    "#model evaluation:\n",
    "lr_train_pred = lr.predict(x_train)\n",
    "lr_test_pred = lr.predict(x_test)\n",
    "metrics.accuracy_score(y_train,lr_train_pred), metrics.accuracy_score(y_test,lr_test_pred)"
   ]
  },
  {
   "cell_type": "code",
   "execution_count": 29,
   "metadata": {},
   "outputs": [
    {
     "data": {
      "text/html": [
       "<div>\n",
       "<style scoped>\n",
       "    .dataframe tbody tr th:only-of-type {\n",
       "        vertical-align: middle;\n",
       "    }\n",
       "\n",
       "    .dataframe tbody tr th {\n",
       "        vertical-align: top;\n",
       "    }\n",
       "\n",
       "    .dataframe thead th {\n",
       "        text-align: right;\n",
       "    }\n",
       "</style>\n",
       "<table border=\"1\" class=\"dataframe\">\n",
       "  <thead>\n",
       "    <tr style=\"text-align: right;\">\n",
       "      <th></th>\n",
       "      <th>playerID</th>\n",
       "      <th>yearID</th>\n",
       "      <th>stint</th>\n",
       "      <th>teamID</th>\n",
       "      <th>lgID_x</th>\n",
       "      <th>W</th>\n",
       "      <th>L</th>\n",
       "      <th>G</th>\n",
       "      <th>GS</th>\n",
       "      <th>CG</th>\n",
       "      <th>...</th>\n",
       "      <th>GF</th>\n",
       "      <th>R</th>\n",
       "      <th>SH</th>\n",
       "      <th>SF</th>\n",
       "      <th>GIDP</th>\n",
       "      <th>IP</th>\n",
       "      <th>CYP</th>\n",
       "      <th>CYA</th>\n",
       "      <th>MVP</th>\n",
       "      <th>preds</th>\n",
       "    </tr>\n",
       "  </thead>\n",
       "  <tbody>\n",
       "    <tr>\n",
       "      <td>5363</td>\n",
       "      <td>chacijh01</td>\n",
       "      <td>2017</td>\n",
       "      <td>1</td>\n",
       "      <td>SDN</td>\n",
       "      <td>NL</td>\n",
       "      <td>13</td>\n",
       "      <td>10</td>\n",
       "      <td>32</td>\n",
       "      <td>32</td>\n",
       "      <td>0</td>\n",
       "      <td>...</td>\n",
       "      <td>0</td>\n",
       "      <td>82</td>\n",
       "      <td>6.0</td>\n",
       "      <td>6.0</td>\n",
       "      <td>16.0</td>\n",
       "      <td>180</td>\n",
       "      <td>92</td>\n",
       "      <td>0</td>\n",
       "      <td>0</td>\n",
       "      <td>0.0</td>\n",
       "    </tr>\n",
       "    <tr>\n",
       "      <td>5367</td>\n",
       "      <td>colege01</td>\n",
       "      <td>2017</td>\n",
       "      <td>1</td>\n",
       "      <td>PIT</td>\n",
       "      <td>NL</td>\n",
       "      <td>12</td>\n",
       "      <td>12</td>\n",
       "      <td>33</td>\n",
       "      <td>33</td>\n",
       "      <td>0</td>\n",
       "      <td>...</td>\n",
       "      <td>0</td>\n",
       "      <td>98</td>\n",
       "      <td>5.0</td>\n",
       "      <td>1.0</td>\n",
       "      <td>16.0</td>\n",
       "      <td>203</td>\n",
       "      <td>81</td>\n",
       "      <td>0</td>\n",
       "      <td>0</td>\n",
       "      <td>0.0</td>\n",
       "    </tr>\n",
       "    <tr>\n",
       "      <td>5369</td>\n",
       "      <td>corbipa01</td>\n",
       "      <td>2017</td>\n",
       "      <td>1</td>\n",
       "      <td>ARI</td>\n",
       "      <td>NL</td>\n",
       "      <td>14</td>\n",
       "      <td>13</td>\n",
       "      <td>33</td>\n",
       "      <td>32</td>\n",
       "      <td>0</td>\n",
       "      <td>...</td>\n",
       "      <td>0</td>\n",
       "      <td>97</td>\n",
       "      <td>4.0</td>\n",
       "      <td>5.0</td>\n",
       "      <td>14.0</td>\n",
       "      <td>189</td>\n",
       "      <td>92</td>\n",
       "      <td>0</td>\n",
       "      <td>0</td>\n",
       "      <td>0.0</td>\n",
       "    </tr>\n",
       "    <tr>\n",
       "      <td>5370</td>\n",
       "      <td>davieza01</td>\n",
       "      <td>2017</td>\n",
       "      <td>1</td>\n",
       "      <td>MIL</td>\n",
       "      <td>NL</td>\n",
       "      <td>17</td>\n",
       "      <td>9</td>\n",
       "      <td>33</td>\n",
       "      <td>33</td>\n",
       "      <td>0</td>\n",
       "      <td>...</td>\n",
       "      <td>0</td>\n",
       "      <td>90</td>\n",
       "      <td>7.0</td>\n",
       "      <td>5.0</td>\n",
       "      <td>22.0</td>\n",
       "      <td>191</td>\n",
       "      <td>117</td>\n",
       "      <td>0</td>\n",
       "      <td>0</td>\n",
       "      <td>0.0</td>\n",
       "    </tr>\n",
       "    <tr>\n",
       "      <td>5371</td>\n",
       "      <td>daviswa01</td>\n",
       "      <td>2017</td>\n",
       "      <td>1</td>\n",
       "      <td>CHN</td>\n",
       "      <td>NL</td>\n",
       "      <td>4</td>\n",
       "      <td>2</td>\n",
       "      <td>59</td>\n",
       "      <td>0</td>\n",
       "      <td>0</td>\n",
       "      <td>...</td>\n",
       "      <td>56</td>\n",
       "      <td>16</td>\n",
       "      <td>1.0</td>\n",
       "      <td>0.0</td>\n",
       "      <td>6.0</td>\n",
       "      <td>58</td>\n",
       "      <td>123</td>\n",
       "      <td>0</td>\n",
       "      <td>0</td>\n",
       "      <td>0.0</td>\n",
       "    </tr>\n",
       "    <tr>\n",
       "      <td>5380</td>\n",
       "      <td>hollagr01</td>\n",
       "      <td>2017</td>\n",
       "      <td>1</td>\n",
       "      <td>COL</td>\n",
       "      <td>NL</td>\n",
       "      <td>3</td>\n",
       "      <td>6</td>\n",
       "      <td>61</td>\n",
       "      <td>0</td>\n",
       "      <td>0</td>\n",
       "      <td>...</td>\n",
       "      <td>58</td>\n",
       "      <td>24</td>\n",
       "      <td>0.0</td>\n",
       "      <td>1.0</td>\n",
       "      <td>5.0</td>\n",
       "      <td>57</td>\n",
       "      <td>123</td>\n",
       "      <td>0</td>\n",
       "      <td>0</td>\n",
       "      <td>0.0</td>\n",
       "    </tr>\n",
       "    <tr>\n",
       "      <td>5390</td>\n",
       "      <td>lestejo01</td>\n",
       "      <td>2017</td>\n",
       "      <td>1</td>\n",
       "      <td>CHN</td>\n",
       "      <td>NL</td>\n",
       "      <td>13</td>\n",
       "      <td>8</td>\n",
       "      <td>32</td>\n",
       "      <td>32</td>\n",
       "      <td>1</td>\n",
       "      <td>...</td>\n",
       "      <td>0</td>\n",
       "      <td>101</td>\n",
       "      <td>4.0</td>\n",
       "      <td>4.0</td>\n",
       "      <td>13.0</td>\n",
       "      <td>180</td>\n",
       "      <td>90</td>\n",
       "      <td>0</td>\n",
       "      <td>0</td>\n",
       "      <td>0.0</td>\n",
       "    </tr>\n",
       "    <tr>\n",
       "      <td>5399</td>\n",
       "      <td>paxtoja01</td>\n",
       "      <td>2017</td>\n",
       "      <td>1</td>\n",
       "      <td>SEA</td>\n",
       "      <td>AL</td>\n",
       "      <td>12</td>\n",
       "      <td>5</td>\n",
       "      <td>24</td>\n",
       "      <td>24</td>\n",
       "      <td>0</td>\n",
       "      <td>...</td>\n",
       "      <td>0</td>\n",
       "      <td>47</td>\n",
       "      <td>1.0</td>\n",
       "      <td>5.0</td>\n",
       "      <td>7.0</td>\n",
       "      <td>136</td>\n",
       "      <td>105</td>\n",
       "      <td>0</td>\n",
       "      <td>0</td>\n",
       "      <td>0.0</td>\n",
       "    </tr>\n",
       "    <tr>\n",
       "      <td>5406</td>\n",
       "      <td>salech01</td>\n",
       "      <td>2017</td>\n",
       "      <td>1</td>\n",
       "      <td>BOS</td>\n",
       "      <td>AL</td>\n",
       "      <td>17</td>\n",
       "      <td>8</td>\n",
       "      <td>32</td>\n",
       "      <td>32</td>\n",
       "      <td>1</td>\n",
       "      <td>...</td>\n",
       "      <td>0</td>\n",
       "      <td>73</td>\n",
       "      <td>2.0</td>\n",
       "      <td>4.0</td>\n",
       "      <td>11.0</td>\n",
       "      <td>214</td>\n",
       "      <td>161</td>\n",
       "      <td>0</td>\n",
       "      <td>0</td>\n",
       "      <td>1.0</td>\n",
       "    </tr>\n",
       "    <tr>\n",
       "      <td>5407</td>\n",
       "      <td>santaer01</td>\n",
       "      <td>2017</td>\n",
       "      <td>1</td>\n",
       "      <td>MIN</td>\n",
       "      <td>AL</td>\n",
       "      <td>16</td>\n",
       "      <td>8</td>\n",
       "      <td>33</td>\n",
       "      <td>33</td>\n",
       "      <td>5</td>\n",
       "      <td>...</td>\n",
       "      <td>0</td>\n",
       "      <td>85</td>\n",
       "      <td>4.0</td>\n",
       "      <td>4.0</td>\n",
       "      <td>8.0</td>\n",
       "      <td>211</td>\n",
       "      <td>137</td>\n",
       "      <td>0</td>\n",
       "      <td>0</td>\n",
       "      <td>1.0</td>\n",
       "    </tr>\n",
       "    <tr>\n",
       "      <td>5412</td>\n",
       "      <td>urenajo01</td>\n",
       "      <td>2017</td>\n",
       "      <td>1</td>\n",
       "      <td>MIA</td>\n",
       "      <td>NL</td>\n",
       "      <td>14</td>\n",
       "      <td>7</td>\n",
       "      <td>34</td>\n",
       "      <td>28</td>\n",
       "      <td>0</td>\n",
       "      <td>...</td>\n",
       "      <td>2</td>\n",
       "      <td>77</td>\n",
       "      <td>5.0</td>\n",
       "      <td>3.0</td>\n",
       "      <td>18.0</td>\n",
       "      <td>169</td>\n",
       "      <td>101</td>\n",
       "      <td>0</td>\n",
       "      <td>0</td>\n",
       "      <td>0.0</td>\n",
       "    </tr>\n",
       "  </tbody>\n",
       "</table>\n",
       "<p>11 rows × 35 columns</p>\n",
       "</div>"
      ],
      "text/plain": [
       "       playerID  yearID  stint teamID lgID_x   W   L   G  GS  CG  ...  GF  \\\n",
       "5363  chacijh01    2017      1    SDN     NL  13  10  32  32   0  ...   0   \n",
       "5367   colege01    2017      1    PIT     NL  12  12  33  33   0  ...   0   \n",
       "5369  corbipa01    2017      1    ARI     NL  14  13  33  32   0  ...   0   \n",
       "5370  davieza01    2017      1    MIL     NL  17   9  33  33   0  ...   0   \n",
       "5371  daviswa01    2017      1    CHN     NL   4   2  59   0   0  ...  56   \n",
       "5380  hollagr01    2017      1    COL     NL   3   6  61   0   0  ...  58   \n",
       "5390  lestejo01    2017      1    CHN     NL  13   8  32  32   1  ...   0   \n",
       "5399  paxtoja01    2017      1    SEA     AL  12   5  24  24   0  ...   0   \n",
       "5406   salech01    2017      1    BOS     AL  17   8  32  32   1  ...   0   \n",
       "5407  santaer01    2017      1    MIN     AL  16   8  33  33   5  ...   0   \n",
       "5412  urenajo01    2017      1    MIA     NL  14   7  34  28   0  ...   2   \n",
       "\n",
       "        R   SH   SF  GIDP   IP  CYP  CYA  MVP  preds  \n",
       "5363   82  6.0  6.0  16.0  180   92    0    0    0.0  \n",
       "5367   98  5.0  1.0  16.0  203   81    0    0    0.0  \n",
       "5369   97  4.0  5.0  14.0  189   92    0    0    0.0  \n",
       "5370   90  7.0  5.0  22.0  191  117    0    0    0.0  \n",
       "5371   16  1.0  0.0   6.0   58  123    0    0    0.0  \n",
       "5380   24  0.0  1.0   5.0   57  123    0    0    0.0  \n",
       "5390  101  4.0  4.0  13.0  180   90    0    0    0.0  \n",
       "5399   47  1.0  5.0   7.0  136  105    0    0    0.0  \n",
       "5406   73  2.0  4.0  11.0  214  161    0    0    1.0  \n",
       "5407   85  4.0  4.0   8.0  211  137    0    0    1.0  \n",
       "5412   77  5.0  3.0  18.0  169  101    0    0    0.0  \n",
       "\n",
       "[11 rows x 35 columns]"
      ]
     },
     "execution_count": 29,
     "metadata": {},
     "output_type": "execute_result"
    }
   ],
   "source": [
    "y_hats = lr.predict(x_test)\n",
    "\n",
    "y_test['preds'] = y_hats\n",
    "\n",
    "df_out = pd.merge(data,y_test[['preds']],how = 'left',left_index = True, right_index = True)\n",
    "df_out  = df_out.dropna().drop_duplicates()\n",
    "df_outx= df_out[(df_out[\"yearID\"] >= 2017)]\n",
    "df_outx"
   ]
  },
  {
   "cell_type": "code",
   "execution_count": 30,
   "metadata": {},
   "outputs": [
    {
     "ename": "ValueError",
     "evalue": "Classification metrics can't handle a mix of multilabel-indicator and binary targets",
     "output_type": "error",
     "traceback": [
      "\u001b[1;31m---------------------------------------------------------------------------\u001b[0m",
      "\u001b[1;31mValueError\u001b[0m                                Traceback (most recent call last)",
      "\u001b[1;32m<ipython-input-30-cb019993d715>\u001b[0m in \u001b[0;36m<module>\u001b[1;34m\u001b[0m\n\u001b[0;32m      1\u001b[0m \u001b[1;32mfrom\u001b[0m \u001b[0msklearn\u001b[0m\u001b[1;33m.\u001b[0m\u001b[0mmetrics\u001b[0m \u001b[1;32mimport\u001b[0m \u001b[0mclassification_report\u001b[0m\u001b[1;33m\u001b[0m\u001b[1;33m\u001b[0m\u001b[0m\n\u001b[1;32m----> 2\u001b[1;33m \u001b[0mprint\u001b[0m\u001b[1;33m(\u001b[0m\u001b[0mclassification_report\u001b[0m\u001b[1;33m(\u001b[0m\u001b[0my_test\u001b[0m\u001b[1;33m,\u001b[0m\u001b[0mlr_test_pred\u001b[0m\u001b[1;33m)\u001b[0m\u001b[1;33m)\u001b[0m\u001b[1;33m\u001b[0m\u001b[1;33m\u001b[0m\u001b[0m\n\u001b[0m",
      "\u001b[1;32mC:\\ProgramData\\Anaconda3\\lib\\site-packages\\sklearn\\metrics\\classification.py\u001b[0m in \u001b[0;36mclassification_report\u001b[1;34m(y_true, y_pred, labels, target_names, sample_weight, digits, output_dict)\u001b[0m\n\u001b[0;32m   1850\u001b[0m     \"\"\"\n\u001b[0;32m   1851\u001b[0m \u001b[1;33m\u001b[0m\u001b[0m\n\u001b[1;32m-> 1852\u001b[1;33m     \u001b[0my_type\u001b[0m\u001b[1;33m,\u001b[0m \u001b[0my_true\u001b[0m\u001b[1;33m,\u001b[0m \u001b[0my_pred\u001b[0m \u001b[1;33m=\u001b[0m \u001b[0m_check_targets\u001b[0m\u001b[1;33m(\u001b[0m\u001b[0my_true\u001b[0m\u001b[1;33m,\u001b[0m \u001b[0my_pred\u001b[0m\u001b[1;33m)\u001b[0m\u001b[1;33m\u001b[0m\u001b[1;33m\u001b[0m\u001b[0m\n\u001b[0m\u001b[0;32m   1853\u001b[0m \u001b[1;33m\u001b[0m\u001b[0m\n\u001b[0;32m   1854\u001b[0m     \u001b[0mlabels_given\u001b[0m \u001b[1;33m=\u001b[0m \u001b[1;32mTrue\u001b[0m\u001b[1;33m\u001b[0m\u001b[1;33m\u001b[0m\u001b[0m\n",
      "\u001b[1;32mC:\\ProgramData\\Anaconda3\\lib\\site-packages\\sklearn\\metrics\\classification.py\u001b[0m in \u001b[0;36m_check_targets\u001b[1;34m(y_true, y_pred)\u001b[0m\n\u001b[0;32m     79\u001b[0m     \u001b[1;32mif\u001b[0m \u001b[0mlen\u001b[0m\u001b[1;33m(\u001b[0m\u001b[0my_type\u001b[0m\u001b[1;33m)\u001b[0m \u001b[1;33m>\u001b[0m \u001b[1;36m1\u001b[0m\u001b[1;33m:\u001b[0m\u001b[1;33m\u001b[0m\u001b[1;33m\u001b[0m\u001b[0m\n\u001b[0;32m     80\u001b[0m         raise ValueError(\"Classification metrics can't handle a mix of {0} \"\n\u001b[1;32m---> 81\u001b[1;33m                          \"and {1} targets\".format(type_true, type_pred))\n\u001b[0m\u001b[0;32m     82\u001b[0m \u001b[1;33m\u001b[0m\u001b[0m\n\u001b[0;32m     83\u001b[0m     \u001b[1;31m# We can't have more than one value on y_type => The set is no more needed\u001b[0m\u001b[1;33m\u001b[0m\u001b[1;33m\u001b[0m\u001b[1;33m\u001b[0m\u001b[0m\n",
      "\u001b[1;31mValueError\u001b[0m: Classification metrics can't handle a mix of multilabel-indicator and binary targets"
     ]
    }
   ],
   "source": [
    "from sklearn.metrics import classification_report\n",
    "print(classification_report(y_test,lr_test_pred))"
   ]
  },
  {
   "cell_type": "code",
   "execution_count": null,
   "metadata": {},
   "outputs": [],
   "source": [
    "test_cm = metrics.confusion_matrix(y_test,lr_test_pred)\n",
    "test_cm"
   ]
  },
  {
   "cell_type": "code",
   "execution_count": null,
   "metadata": {},
   "outputs": [],
   "source": [
    "#confusion matrix plot:\n",
    "plt.figure()\n",
    "plt.matshow(test_cm)\n",
    "plt.title(\"Confusion Matrix\")\n",
    "plt.colorbar()\n",
    "plt.ylabel(\"True Label\")\n",
    "plt.xlabel(\"Predicted Label\");"
   ]
  },
  {
   "cell_type": "code",
   "execution_count": null,
   "metadata": {},
   "outputs": [],
   "source": [
    "cohen_kappa_score(y_test, lr_test_pred)"
   ]
  },
  {
   "cell_type": "code",
   "execution_count": null,
   "metadata": {},
   "outputs": [],
   "source": [
    "mean_absolute_error(y_test,lr_test_pred)"
   ]
  },
  {
   "cell_type": "code",
   "execution_count": null,
   "metadata": {},
   "outputs": [],
   "source": [
    "mean_squared_error(y_test,lr_test_pred)"
   ]
  },
  {
   "cell_type": "code",
   "execution_count": null,
   "metadata": {},
   "outputs": [],
   "source": [
    "r2_score(y_test,lr_test_pred)"
   ]
  },
  {
   "cell_type": "markdown",
   "metadata": {},
   "source": [
    "## Naïve Bayes"
   ]
  },
  {
   "cell_type": "code",
   "execution_count": null,
   "metadata": {},
   "outputs": [],
   "source": [
    "from sklearn.naive_bayes import GaussianNB\n",
    "x_train, x_test, y_train, y_test = train_test_split (X,y, test_size = 0.3,\n",
    "                                                     random_state = 0)\n",
    "NB = GaussianNB()\n",
    "NB.fit(x_train,y_train)\n",
    "NB_train_pred = NB.predict(x_train)\n",
    "NB_test_pred = NB.predict(x_test)"
   ]
  },
  {
   "cell_type": "code",
   "execution_count": null,
   "metadata": {},
   "outputs": [],
   "source": [
    "metrics.accuracy_score(y_train,NB_train_pred)"
   ]
  },
  {
   "cell_type": "code",
   "execution_count": null,
   "metadata": {},
   "outputs": [],
   "source": [
    "metrics.accuracy_score(y_test,NB_test_pred)"
   ]
  },
  {
   "cell_type": "code",
   "execution_count": null,
   "metadata": {},
   "outputs": [],
   "source": [
    "print(classification_report(y_test,NB_test_pred))"
   ]
  },
  {
   "cell_type": "code",
   "execution_count": null,
   "metadata": {},
   "outputs": [],
   "source": [
    "#confusion matrix:\n",
    "test_cm = metrics.confusion_matrix(y_test,NB_test_pred)\n",
    "plt.figure()\n",
    "plt.matshow(test_cm)\n",
    "plt.title(\"Confusion Matrix\")\n",
    "plt.colorbar()\n",
    "plt.ylabel(\"True Label\")\n",
    "plt.xlabel(\"Predicted Label\");"
   ]
  },
  {
   "cell_type": "code",
   "execution_count": null,
   "metadata": {},
   "outputs": [],
   "source": [
    "cohen_kappa_score(y_test, NB_test_pred)"
   ]
  },
  {
   "cell_type": "code",
   "execution_count": null,
   "metadata": {},
   "outputs": [],
   "source": [
    "r2_score(y_test,NB_test_pred)"
   ]
  },
  {
   "cell_type": "markdown",
   "metadata": {},
   "source": [
    "## Decision Tree"
   ]
  },
  {
   "cell_type": "code",
   "execution_count": null,
   "metadata": {},
   "outputs": [],
   "source": [
    "from sklearn import tree\n",
    "from sklearn.tree import export_graphviz\n",
    "x_train, x_test, y_train, y_test = train_test_split (X,y, test_size = 0.3, random_state = 0)\n",
    "DT = tree.DecisionTreeClassifier(max_depth = 10, min_samples_split = 5)\n",
    "\n",
    "#-------------------\n",
    "DT.fit(x_train,y_train)\n",
    "DT_pred = DT.predict(x_test)\n",
    "print(classification_report(y_test,DT_pred))"
   ]
  },
  {
   "cell_type": "code",
   "execution_count": null,
   "metadata": {},
   "outputs": [],
   "source": [
    "test_cm = metrics.confusion_matrix(y_test,DT_pred)\n",
    "#confusion matrix:\n",
    "plt.figure()\n",
    "plt.matshow(test_cm)\n",
    "plt.title(\"Confusion Matrix\")\n",
    "plt.colorbar()\n",
    "plt.ylabel(\"True Label\")\n",
    "plt.xlabel(\"Predicted Label\");"
   ]
  },
  {
   "cell_type": "code",
   "execution_count": null,
   "metadata": {},
   "outputs": [],
   "source": [
    "cohen_kappa_score(y_test, DT_pred)"
   ]
  },
  {
   "cell_type": "code",
   "execution_count": null,
   "metadata": {},
   "outputs": [],
   "source": [
    "r2_score(y_test,DT_pred)"
   ]
  },
  {
   "cell_type": "code",
   "execution_count": null,
   "metadata": {},
   "outputs": [],
   "source": [
    "#importance of each value:\n",
    "fi = DT.feature_importances_\n",
    "pd.DataFrame({'variable':x_test.columns,\n",
    "             'importance': fi })"
   ]
  },
  {
   "cell_type": "markdown",
   "metadata": {},
   "source": [
    "## Neural Network"
   ]
  },
  {
   "cell_type": "code",
   "execution_count": null,
   "metadata": {},
   "outputs": [],
   "source": [
    "#data preprocessing\n",
    "from sklearn.preprocessing import MinMaxScaler\n",
    "scaler = MinMaxScaler()\n",
    "X = data[[\"GS\" ,\"IPouts\",\"ER\", \"SO\", \"SV\", \"SHO\" ,\"W\" ,\"L\"]]\n",
    "y = data[[\"CYA\"]]\n",
    "\n",
    "x_train, x_test, y_train, y_test = train_test_split (X,y, test_size = 0.3, random_state = 0)\n",
    "# #-------------------\n",
    "x_train_scaled = scaler.fit_transform(x_train)\n",
    "x_test_scaled = scaler.fit_transform(x_test)"
   ]
  },
  {
   "cell_type": "code",
   "execution_count": null,
   "metadata": {},
   "outputs": [],
   "source": [
    "from sklearn.neural_network import MLPClassifier\n",
    "NN = MLPClassifier(solver='lbfgs',alpha=0.5,\n",
    "                   hidden_layer_sizes=(10,4),random_state=1)\n",
    "NN.fit(x_train_scaled,y_train)"
   ]
  },
  {
   "cell_type": "code",
   "execution_count": null,
   "metadata": {},
   "outputs": [],
   "source": [
    "#prediction model:\n",
    "NN_pred = NN.predict(x_test_scaled)\n",
    "metrics.accuracy_score(NN_pred, y_test)"
   ]
  },
  {
   "cell_type": "code",
   "execution_count": null,
   "metadata": {},
   "outputs": [],
   "source": [
    "print(classification_report(y_test,NN_pred))"
   ]
  },
  {
   "cell_type": "code",
   "execution_count": null,
   "metadata": {},
   "outputs": [],
   "source": [
    "r2_score(y_test,NN_pred)"
   ]
  },
  {
   "cell_type": "code",
   "execution_count": null,
   "metadata": {},
   "outputs": [],
   "source": [
    "#confusion matrix:\n",
    "test_cm = metrics.confusion_matrix(y_test,NN_pred)\n",
    "plt.figure()\n",
    "plt.matshow(test_cm)\n",
    "plt.title(\"Confusion Matrix\")\n",
    "plt.colorbar()\n",
    "plt.ylabel(\"True Label\")\n",
    "plt.xlabel(\"Predicted Label\");"
   ]
  },
  {
   "cell_type": "markdown",
   "metadata": {},
   "source": [
    "## Support Vector Machine"
   ]
  },
  {
   "cell_type": "code",
   "execution_count": null,
   "metadata": {},
   "outputs": [],
   "source": [
    "from sklearn import svm\n",
    "scaler = MinMaxScaler()\n",
    "x_train, x_test, y_train, y_test = train_test_split (X,y, test_size = 0.3, random_state = 0)\n",
    "# -------------------\n",
    "x_train_scaled = scaler.fit_transform(x_train)\n",
    "x_test_scaled = scaler.fit_transform(x_test)\n"
   ]
  },
  {
   "cell_type": "code",
   "execution_count": null,
   "metadata": {},
   "outputs": [],
   "source": [
    "#SVM Linear:\n",
    "svm_linear = svm.SVC(kernel='linear')\n",
    "svm_linear.fit(x_train_scaled,y_train)"
   ]
  },
  {
   "cell_type": "code",
   "execution_count": null,
   "metadata": {},
   "outputs": [],
   "source": [
    "svm_linear.coef_"
   ]
  },
  {
   "cell_type": "code",
   "execution_count": null,
   "metadata": {},
   "outputs": [],
   "source": [
    "##SVM Linear - Prediction Model:\n",
    "svm_linear_pred = svm_linear.predict(x_test_scaled)\n",
    "metrics.accuracy_score(y_test,svm_linear_pred)"
   ]
  },
  {
   "cell_type": "code",
   "execution_count": null,
   "metadata": {},
   "outputs": [],
   "source": [
    "print(classification_report(y_test,svm_linear_pred))\n",
    "#All other SVM methods (RBF, Poly) gave the same results, so I just put the Linear method in the report:"
   ]
  },
  {
   "cell_type": "code",
   "execution_count": null,
   "metadata": {},
   "outputs": [],
   "source": [
    "#confusion matrix:\n",
    "test_cm = metrics.confusion_matrix(y_test,svm_linear_pred)\n",
    "plt.figure()\n",
    "plt.matshow(test_cm)\n",
    "plt.title(\"Confusion Matrix\")\n",
    "plt.colorbar()\n",
    "plt.ylabel(\"True Label\")\n",
    "plt.xlabel(\"Predicted Label\");"
   ]
  },
  {
   "cell_type": "markdown",
   "metadata": {},
   "source": [
    "## Random Forests"
   ]
  },
  {
   "cell_type": "code",
   "execution_count": null,
   "metadata": {},
   "outputs": [],
   "source": [
    "x_train, x_test, y_train, y_test = train_test_split (X,y, test_size = 0.3, random_state = 0)\n",
    "from sklearn.ensemble import RandomForestClassifier\n",
    "RF = RandomForestClassifier(n_estimators=100,random_state=0)\n",
    "RF.fit(x_train,y_train)"
   ]
  },
  {
   "cell_type": "code",
   "execution_count": null,
   "metadata": {},
   "outputs": [],
   "source": [
    "RF_pred = RF.predict(x_test)\n",
    "metrics.accuracy_score(RF_pred,y_test)"
   ]
  },
  {
   "cell_type": "code",
   "execution_count": null,
   "metadata": {},
   "outputs": [],
   "source": [
    "print(classification_report(y_test,RF_pred))"
   ]
  },
  {
   "cell_type": "code",
   "execution_count": null,
   "metadata": {},
   "outputs": [],
   "source": [
    "fi = RF.feature_importances_\n",
    "pd.DataFrame({'variable':x_test.columns,\n",
    "             'importance': fi })"
   ]
  },
  {
   "cell_type": "code",
   "execution_count": null,
   "metadata": {},
   "outputs": [],
   "source": [
    "from sklearn.model_selection import cross_val_score\n",
    "n_estimator = range(2,104,2)\n",
    "accuracy = []\n",
    "for i in n_estimator:\n",
    "    RF = RandomForestClassifier(n_estimators = i, random_state = 0)\n",
    "    scores = cross_val_score(RF,x_train,y_train)\n",
    "    accuracy.append(scores.mean());"
   ]
  },
  {
   "cell_type": "code",
   "execution_count": null,
   "metadata": {},
   "outputs": [],
   "source": [
    "fig = plt.figure();\n",
    "ax0 = fig.add_subplot(111)\n",
    "ymax = max(accuracy)\n",
    "xpos = accuracy.index(ymax)\n",
    "xmax = n_estimator[xpos]\n",
    "plt.plot(n_estimator,accuracy);\n",
    "plt.xlabel(\"n_estimator\");\n",
    "plt.ylabel(\"Accuracy\");\n",
    "plt.title(\"Accuracy vs. n_estimator\");\n",
    "txt = f\"max accuracy:{round(ymax,5)}\"\n",
    "ax0.set_ylim(0.4,0.9);\n",
    "ax0.annotate(txt, xy=(xmax, ymax), xytext=(xmax, ymax+0.06),\n",
    "arrowprops=dict(facecolor='blue', shrink=0.05),);"
   ]
  },
  {
   "cell_type": "markdown",
   "metadata": {},
   "source": [
    "## AdaBoost Classifier\n"
   ]
  },
  {
   "cell_type": "code",
   "execution_count": null,
   "metadata": {},
   "outputs": [],
   "source": [
    "from sklearn.ensemble import AdaBoostClassifier\n",
    "n_estimator = list(range(1,100,2))\n",
    "accuracy = []\n",
    "for i in n_estimator:\n",
    "    Ada = AdaBoostClassifier(n_estimators = i, learning_rate=0.005, random_state=21)\n",
    "    scores = cross_val_score(Ada,x_train,y_train)\n",
    "    accuracy.append(scores.mean())"
   ]
  },
  {
   "cell_type": "code",
   "execution_count": null,
   "metadata": {},
   "outputs": [],
   "source": [
    "fig = plt.figure();\n",
    "ax = fig.add_subplot(111)\n",
    "plt.plot(n_estimator,accuracy)\n",
    "plt.xlabel(\"n_estimators\")\n",
    "plt.ylabel(\"Accuracy\")\n",
    "plt.title(\"Adaboost Accuracy\");\n",
    "ymax = max(accuracy)\n",
    "xpos = accuracy.index(ymax)\n",
    "xmax = n_estimator[xpos]\n",
    "txt = f\"max accuracy:{round(ymax,3)}\"\n",
    "ax.annotate(txt, xy=(xmax, ymax), xytext=(xmax, ymax+0.0029),\n",
    "arrowprops=dict(facecolor='red', shrink=1),)\n",
    "ax.set_ylim(0.100,1.00);"
   ]
  },
  {
   "cell_type": "markdown",
   "metadata": {},
   "source": [
    "### MLB Most Valuable Player MVP Award Winners\n",
    "The Most Valuable Player Award is given annually to one player in each league. The award began in 1911 as the Chalmers Award, honoring the \"most important and useful player to the club and to the league\". This award was discontinued in 1914. From 1922 to 1928 in the American League and from 1924 to 1929 in the National League, an MVP award was given to \"the baseball player who is of the greatest all-around service to his club\". Prior winners were not eligible to win the MVP award again during this time. The current incarnation of the MVP award was established in 1931. The Baseball Writers' Association of America (BBWAA) votes on the MVP award at the conclusion of each season before the postseason starts."
   ]
  },
  {
   "cell_type": "markdown",
   "metadata": {},
   "source": [
    "####    Dataset used: Batting.csv\n",
    "    Variables used (Already in the dataset):\n",
    "    H: Hits\n",
    "    BB: Walks by batters\n",
    "    HBP: Batters hit by pitch\n",
    "    AB: At Bats\n",
    "    SF : Sacrifice flies\n",
    "    H, 2B, 3B: Hits, Doubles, Triples\n",
    "    HR: Homeruns\n",
    "    RBI: Runs batted in\n",
    "    SB: Stolen Bases;\n",
    "    \n",
    "        "
   ]
  },
  {
   "cell_type": "markdown",
   "metadata": {},
   "source": [
    "#### MVP Awards related variables (not in the dataset but calculated with formulas):\n",
    "    • BA:Hits/At Bats (H/AB); \n",
    "    according to baseball reference website;\n",
    "    • OBP: (H + BB + HBP) / (AB + BB + HBP + SF); \n",
    "    according to baseball reference website;\n",
    "    • SLG: (H - X2B - X3B - HR + 2 * X2B + 3 * X3B + 4 * HR) / AB;\n",
    "    according to Max Marchi and Jim Albert article;\n",
    "    \n"
   ]
  },
  {
   "cell_type": "code",
   "execution_count": 39,
   "metadata": {},
   "outputs": [],
   "source": [
    "data_bat = pd.read_csv(\"Batting.csv\")"
   ]
  },
  {
   "cell_type": "code",
   "execution_count": 40,
   "metadata": {},
   "outputs": [
    {
     "data": {
      "text/plain": [
       "(107429, 22)"
      ]
     },
     "execution_count": 40,
     "metadata": {},
     "output_type": "execute_result"
    }
   ],
   "source": [
    "data_bat.shape"
   ]
  },
  {
   "cell_type": "code",
   "execution_count": 41,
   "metadata": {},
   "outputs": [
    {
     "data": {
      "text/html": [
       "<div>\n",
       "<style scoped>\n",
       "    .dataframe tbody tr th:only-of-type {\n",
       "        vertical-align: middle;\n",
       "    }\n",
       "\n",
       "    .dataframe tbody tr th {\n",
       "        vertical-align: top;\n",
       "    }\n",
       "\n",
       "    .dataframe thead th {\n",
       "        text-align: right;\n",
       "    }\n",
       "</style>\n",
       "<table border=\"1\" class=\"dataframe\">\n",
       "  <thead>\n",
       "    <tr style=\"text-align: right;\">\n",
       "      <th></th>\n",
       "      <th>playerID</th>\n",
       "      <th>yearID</th>\n",
       "      <th>H</th>\n",
       "      <th>BB</th>\n",
       "      <th>HBP</th>\n",
       "      <th>AB</th>\n",
       "      <th>SF</th>\n",
       "      <th>2B</th>\n",
       "      <th>3B</th>\n",
       "      <th>HR</th>\n",
       "      <th>RBI</th>\n",
       "      <th>SB</th>\n",
       "      <th>MVP</th>\n",
       "    </tr>\n",
       "  </thead>\n",
       "  <tbody>\n",
       "    <tr>\n",
       "      <td>0</td>\n",
       "      <td>abercda01</td>\n",
       "      <td>1871</td>\n",
       "      <td>0</td>\n",
       "      <td>0</td>\n",
       "      <td>0.0</td>\n",
       "      <td>4</td>\n",
       "      <td>0.0</td>\n",
       "      <td>0</td>\n",
       "      <td>0</td>\n",
       "      <td>0</td>\n",
       "      <td>0.0</td>\n",
       "      <td>0.0</td>\n",
       "      <td>0</td>\n",
       "    </tr>\n",
       "    <tr>\n",
       "      <td>1</td>\n",
       "      <td>addybo01</td>\n",
       "      <td>1871</td>\n",
       "      <td>32</td>\n",
       "      <td>4</td>\n",
       "      <td>0.0</td>\n",
       "      <td>118</td>\n",
       "      <td>0.0</td>\n",
       "      <td>6</td>\n",
       "      <td>0</td>\n",
       "      <td>0</td>\n",
       "      <td>13.0</td>\n",
       "      <td>8.0</td>\n",
       "      <td>0</td>\n",
       "    </tr>\n",
       "    <tr>\n",
       "      <td>2</td>\n",
       "      <td>allisar01</td>\n",
       "      <td>1871</td>\n",
       "      <td>40</td>\n",
       "      <td>2</td>\n",
       "      <td>0.0</td>\n",
       "      <td>137</td>\n",
       "      <td>0.0</td>\n",
       "      <td>4</td>\n",
       "      <td>5</td>\n",
       "      <td>0</td>\n",
       "      <td>19.0</td>\n",
       "      <td>3.0</td>\n",
       "      <td>0</td>\n",
       "    </tr>\n",
       "    <tr>\n",
       "      <td>3</td>\n",
       "      <td>allisdo01</td>\n",
       "      <td>1871</td>\n",
       "      <td>44</td>\n",
       "      <td>0</td>\n",
       "      <td>0.0</td>\n",
       "      <td>133</td>\n",
       "      <td>0.0</td>\n",
       "      <td>10</td>\n",
       "      <td>2</td>\n",
       "      <td>2</td>\n",
       "      <td>27.0</td>\n",
       "      <td>1.0</td>\n",
       "      <td>0</td>\n",
       "    </tr>\n",
       "    <tr>\n",
       "      <td>4</td>\n",
       "      <td>ansonca01</td>\n",
       "      <td>1871</td>\n",
       "      <td>39</td>\n",
       "      <td>2</td>\n",
       "      <td>0.0</td>\n",
       "      <td>120</td>\n",
       "      <td>0.0</td>\n",
       "      <td>11</td>\n",
       "      <td>3</td>\n",
       "      <td>0</td>\n",
       "      <td>16.0</td>\n",
       "      <td>6.0</td>\n",
       "      <td>0</td>\n",
       "    </tr>\n",
       "    <tr>\n",
       "      <td>...</td>\n",
       "      <td>...</td>\n",
       "      <td>...</td>\n",
       "      <td>...</td>\n",
       "      <td>...</td>\n",
       "      <td>...</td>\n",
       "      <td>...</td>\n",
       "      <td>...</td>\n",
       "      <td>...</td>\n",
       "      <td>...</td>\n",
       "      <td>...</td>\n",
       "      <td>...</td>\n",
       "      <td>...</td>\n",
       "      <td>...</td>\n",
       "    </tr>\n",
       "    <tr>\n",
       "      <td>108042</td>\n",
       "      <td>zimmejo02</td>\n",
       "      <td>2019</td>\n",
       "      <td>0</td>\n",
       "      <td>0</td>\n",
       "      <td>0.0</td>\n",
       "      <td>2</td>\n",
       "      <td>0.0</td>\n",
       "      <td>0</td>\n",
       "      <td>0</td>\n",
       "      <td>0</td>\n",
       "      <td>0.0</td>\n",
       "      <td>0.0</td>\n",
       "      <td>0</td>\n",
       "    </tr>\n",
       "    <tr>\n",
       "      <td>108043</td>\n",
       "      <td>zimmeky01</td>\n",
       "      <td>2019</td>\n",
       "      <td>0</td>\n",
       "      <td>0</td>\n",
       "      <td>0.0</td>\n",
       "      <td>0</td>\n",
       "      <td>0.0</td>\n",
       "      <td>0</td>\n",
       "      <td>0</td>\n",
       "      <td>0</td>\n",
       "      <td>0.0</td>\n",
       "      <td>0.0</td>\n",
       "      <td>0</td>\n",
       "    </tr>\n",
       "    <tr>\n",
       "      <td>108044</td>\n",
       "      <td>zimmery01</td>\n",
       "      <td>2019</td>\n",
       "      <td>44</td>\n",
       "      <td>17</td>\n",
       "      <td>0.0</td>\n",
       "      <td>171</td>\n",
       "      <td>2.0</td>\n",
       "      <td>9</td>\n",
       "      <td>0</td>\n",
       "      <td>6</td>\n",
       "      <td>27.0</td>\n",
       "      <td>0.0</td>\n",
       "      <td>0</td>\n",
       "    </tr>\n",
       "    <tr>\n",
       "      <td>108045</td>\n",
       "      <td>zobribe01</td>\n",
       "      <td>2019</td>\n",
       "      <td>39</td>\n",
       "      <td>23</td>\n",
       "      <td>1.0</td>\n",
       "      <td>150</td>\n",
       "      <td>2.0</td>\n",
       "      <td>5</td>\n",
       "      <td>0</td>\n",
       "      <td>1</td>\n",
       "      <td>17.0</td>\n",
       "      <td>0.0</td>\n",
       "      <td>0</td>\n",
       "    </tr>\n",
       "    <tr>\n",
       "      <td>108046</td>\n",
       "      <td>zuninmi01</td>\n",
       "      <td>2019</td>\n",
       "      <td>44</td>\n",
       "      <td>20</td>\n",
       "      <td>3.0</td>\n",
       "      <td>266</td>\n",
       "      <td>0.0</td>\n",
       "      <td>10</td>\n",
       "      <td>1</td>\n",
       "      <td>9</td>\n",
       "      <td>32.0</td>\n",
       "      <td>0.0</td>\n",
       "      <td>0</td>\n",
       "    </tr>\n",
       "  </tbody>\n",
       "</table>\n",
       "<p>108047 rows × 13 columns</p>\n",
       "</div>"
      ],
      "text/plain": [
       "         playerID  yearID   H  BB  HBP   AB   SF  2B  3B  HR   RBI   SB  MVP\n",
       "0       abercda01    1871   0   0  0.0    4  0.0   0   0   0   0.0  0.0    0\n",
       "1        addybo01    1871  32   4  0.0  118  0.0   6   0   0  13.0  8.0    0\n",
       "2       allisar01    1871  40   2  0.0  137  0.0   4   5   0  19.0  3.0    0\n",
       "3       allisdo01    1871  44   0  0.0  133  0.0  10   2   2  27.0  1.0    0\n",
       "4       ansonca01    1871  39   2  0.0  120  0.0  11   3   0  16.0  6.0    0\n",
       "...           ...     ...  ..  ..  ...  ...  ...  ..  ..  ..   ...  ...  ...\n",
       "108042  zimmejo02    2019   0   0  0.0    2  0.0   0   0   0   0.0  0.0    0\n",
       "108043  zimmeky01    2019   0   0  0.0    0  0.0   0   0   0   0.0  0.0    0\n",
       "108044  zimmery01    2019  44  17  0.0  171  2.0   9   0   6  27.0  0.0    0\n",
       "108045  zobribe01    2019  39  23  1.0  150  2.0   5   0   1  17.0  0.0    0\n",
       "108046  zuninmi01    2019  44  20  3.0  266  0.0  10   1   9  32.0  0.0    0\n",
       "\n",
       "[108047 rows x 13 columns]"
      ]
     },
     "execution_count": 41,
     "metadata": {},
     "output_type": "execute_result"
    }
   ],
   "source": [
    "#importing data:\n",
    "\n",
    "data_bat = data_bat[[\"playerID\",\"yearID\",\"H\",\"BB\",\"HBP\",\"AB\",\"SF\",\"2B\",\"3B\",\"HR\",\"RBI\",\"SB\"]]\n",
    "data_bat_merged = data_bat.merge(data_aw, on=['playerID','yearID'], how='left')\n",
    "# #------\n",
    "MVP_bat = []\n",
    "for i in range(data_bat_merged.shape[0]):\n",
    "    mvp = 0\n",
    "    if data_bat_merged[\"awardID\"][i] == \"MVP\":\n",
    "        mvp = 1\n",
    "    else:\n",
    "        mvp = 0\n",
    "    MVP_bat.append(int(mvp))\n",
    "data_bat_merged [\"MVP\"] = MVP_bat\n",
    "data_bat_merged_final = data_bat_merged.drop(['votesFirst','lgID','pointsMax','awardID','pointsWon'],axis = 1)\n",
    "#------\n",
    "data_bat_merged_final.head()\n",
    "dbmf = data_bat_merged_final\n",
    "dbmf.fillna(0)"
   ]
  },
  {
   "cell_type": "code",
   "execution_count": 42,
   "metadata": {},
   "outputs": [],
   "source": [
    "## Calculating BA:\n",
    "dbmf[\"BA\"] =  [float(dbmf[\"H\"][i]/dbmf[\"AB\"][i]) for i in range(dbmf.shape[0])] "
   ]
  },
  {
   "cell_type": "code",
   "execution_count": 43,
   "metadata": {},
   "outputs": [],
   "source": [
    "## Calculating OBP: (H + BB + HBP) / (AB + BB + HBP + SF)\n",
    "h,bb,hbp,ab,sf  = dbmf[\"H\"],dbmf[\"BB\"],dbmf[\"HBP\"],dbmf[\"AB\"],dbmf[\"SF\"]\n",
    "OBP = []\n",
    "for i in range(dbmf.shape[0]): \n",
    "    obp = (h[i] + bb[i] + hbp[i]) / (ab[i] + bb [i] + hbp [i] + sf [i])        \n",
    "    OBP.append(float(obp))\n",
    "dbmf[\"OBP\"] = OBP"
   ]
  },
  {
   "cell_type": "code",
   "execution_count": 44,
   "metadata": {},
   "outputs": [],
   "source": [
    "## Calculating SLG: (H - X2B - X3B - HR + 2 * X2B + 3 * X3B + 4 * HR) / AB\n",
    "b2,b3,hr  = dbmf[\"2B\"],dbmf[\"3B\"],dbmf[\"HR\"]\n",
    "SLG = []\n",
    "for i in range(dbmf.shape[0]): \n",
    "    slg = ([h[i] - b2[i] - b3[i] - hr[i] + (2*b2[i]) + (3*b3[i]) + (4*hr[i])]/ ab[i])   \n",
    "    SLG.append(float(slg))\n",
    "dbmf[\"SLG\"] = SLG"
   ]
  },
  {
   "cell_type": "code",
   "execution_count": 45,
   "metadata": {},
   "outputs": [],
   "source": [
    "# droping unnecessary columns: \n",
    "dbmf = dbmf.drop (['H','2B','3B','AB','SF','HBP'],axis = 1)"
   ]
  },
  {
   "cell_type": "code",
   "execution_count": 46,
   "metadata": {},
   "outputs": [
    {
     "data": {
      "text/plain": [
       "playerID        0\n",
       "yearID          0\n",
       "BB              0\n",
       "HR              0\n",
       "RBI           756\n",
       "SB           2368\n",
       "MVP             0\n",
       "BA          17009\n",
       "OBP         52624\n",
       "SLG         17009\n",
       "dtype: int64"
      ]
     },
     "execution_count": 46,
     "metadata": {},
     "output_type": "execute_result"
    }
   ],
   "source": [
    "dbmf.fillna(0)\n",
    "dbmf.isna().sum() #there are too many null values that should be removed from dataset"
   ]
  },
  {
   "cell_type": "code",
   "execution_count": 47,
   "metadata": {},
   "outputs": [],
   "source": [
    "#dropping null values:\n",
    "dbmf.dropna(inplace = True, how= \"any\")"
   ]
  },
  {
   "cell_type": "code",
   "execution_count": 48,
   "metadata": {},
   "outputs": [
    {
     "data": {
      "text/html": [
       "<div>\n",
       "<style scoped>\n",
       "    .dataframe tbody tr th:only-of-type {\n",
       "        vertical-align: middle;\n",
       "    }\n",
       "\n",
       "    .dataframe tbody tr th {\n",
       "        vertical-align: top;\n",
       "    }\n",
       "\n",
       "    .dataframe thead th {\n",
       "        text-align: right;\n",
       "    }\n",
       "</style>\n",
       "<table border=\"1\" class=\"dataframe\">\n",
       "  <thead>\n",
       "    <tr style=\"text-align: right;\">\n",
       "      <th></th>\n",
       "      <th>playerID</th>\n",
       "      <th>yearID</th>\n",
       "      <th>BB</th>\n",
       "      <th>HR</th>\n",
       "      <th>RBI</th>\n",
       "      <th>SB</th>\n",
       "      <th>MVP</th>\n",
       "      <th>BA</th>\n",
       "      <th>OBP</th>\n",
       "      <th>SLG</th>\n",
       "    </tr>\n",
       "  </thead>\n",
       "  <tbody>\n",
       "    <tr>\n",
       "      <td>36914</td>\n",
       "      <td>aaronha01</td>\n",
       "      <td>1954</td>\n",
       "      <td>28</td>\n",
       "      <td>13</td>\n",
       "      <td>69.0</td>\n",
       "      <td>2.0</td>\n",
       "      <td>0</td>\n",
       "      <td>0.279915</td>\n",
       "      <td>0.322068</td>\n",
       "      <td>0.446581</td>\n",
       "    </tr>\n",
       "    <tr>\n",
       "      <td>36915</td>\n",
       "      <td>aberal01</td>\n",
       "      <td>1954</td>\n",
       "      <td>2</td>\n",
       "      <td>0</td>\n",
       "      <td>3.0</td>\n",
       "      <td>0.0</td>\n",
       "      <td>0</td>\n",
       "      <td>0.128205</td>\n",
       "      <td>0.166667</td>\n",
       "      <td>0.128205</td>\n",
       "    </tr>\n",
       "    <tr>\n",
       "      <td>36916</td>\n",
       "      <td>abramca01</td>\n",
       "      <td>1954</td>\n",
       "      <td>10</td>\n",
       "      <td>0</td>\n",
       "      <td>2.0</td>\n",
       "      <td>0.0</td>\n",
       "      <td>1</td>\n",
       "      <td>0.142857</td>\n",
       "      <td>0.307692</td>\n",
       "      <td>0.214286</td>\n",
       "    </tr>\n",
       "    <tr>\n",
       "      <td>36917</td>\n",
       "      <td>abramca01</td>\n",
       "      <td>1954</td>\n",
       "      <td>72</td>\n",
       "      <td>6</td>\n",
       "      <td>25.0</td>\n",
       "      <td>1.0</td>\n",
       "      <td>1</td>\n",
       "      <td>0.293144</td>\n",
       "      <td>0.400000</td>\n",
       "      <td>0.420804</td>\n",
       "    </tr>\n",
       "    <tr>\n",
       "      <td>36918</td>\n",
       "      <td>adamsbo03</td>\n",
       "      <td>1954</td>\n",
       "      <td>55</td>\n",
       "      <td>3</td>\n",
       "      <td>23.0</td>\n",
       "      <td>2.0</td>\n",
       "      <td>0</td>\n",
       "      <td>0.269231</td>\n",
       "      <td>0.362222</td>\n",
       "      <td>0.387179</td>\n",
       "    </tr>\n",
       "  </tbody>\n",
       "</table>\n",
       "</div>"
      ],
      "text/plain": [
       "        playerID  yearID  BB  HR   RBI   SB  MVP        BA       OBP       SLG\n",
       "36914  aaronha01    1954  28  13  69.0  2.0    0  0.279915  0.322068  0.446581\n",
       "36915   aberal01    1954   2   0   3.0  0.0    0  0.128205  0.166667  0.128205\n",
       "36916  abramca01    1954  10   0   2.0  0.0    1  0.142857  0.307692  0.214286\n",
       "36917  abramca01    1954  72   6  25.0  1.0    1  0.293144  0.400000  0.420804\n",
       "36918  adamsbo03    1954  55   3  23.0  2.0    0  0.269231  0.362222  0.387179"
      ]
     },
     "execution_count": 48,
     "metadata": {},
     "output_type": "execute_result"
    }
   ],
   "source": [
    "dbmf.head()"
   ]
  },
  {
   "cell_type": "code",
   "execution_count": 51,
   "metadata": {},
   "outputs": [
    {
     "data": {
      "text/plain": [
       "0    0.941757\n",
       "1    0.058243\n",
       "Name: MVP, dtype: float64"
      ]
     },
     "execution_count": 51,
     "metadata": {},
     "output_type": "execute_result"
    }
   ],
   "source": [
    "dbmf[\"MVP\"].value_counts(normalize=True)"
   ]
  },
  {
   "cell_type": "code",
   "execution_count": 52,
   "metadata": {},
   "outputs": [],
   "source": [
    "dbmf.to_csv(\"MVPAward_Data.csv\")"
   ]
  },
  {
   "cell_type": "code",
   "execution_count": 53,
   "metadata": {
    "scrolled": true
   },
   "outputs": [
    {
     "data": {
      "text/plain": [
       "0    0.515625\n",
       "1    0.484375\n",
       "Name: MVP, dtype: float64"
      ]
     },
     "execution_count": 53,
     "metadata": {},
     "output_type": "execute_result"
    }
   ],
   "source": [
    "# filtering data from 1950 to 2017; \n",
    "# also trying to remove irrelevant values to balance the data as much as possible:\n",
    "dbmf_flt = dbmf[(dbmf[\"yearID\"]>= 1950)  & (dbmf[\"yearID\"]<= 2017) & (dbmf[\"BA\"] >= 0.267) & (dbmf[\"SLG\"] >= 0.4889) & (dbmf[\"OBP\"] >= 0.3441) & (dbmf[\"HR\"] >= 2)].reset_index(drop = True)\n",
    "dbmf_flt[\"MVP\"].value_counts(normalize=True)"
   ]
  },
  {
   "cell_type": "code",
   "execution_count": 54,
   "metadata": {},
   "outputs": [
    {
     "data": {
      "image/png": "[encoded data removed]",
      "text/plain": [
       "<Figure size 432x288 with 1 Axes>"
      ]
     },
     "metadata": {
      "needs_background": "light"
     },
     "output_type": "display_data"
    }
   ],
   "source": [
    "dbmf[\"MVP\"].value_counts(normalize=True).plot(kind='bar');\n",
    "plt.xlabel(\"MVP\", labelpad=14)\n",
    "plt.ylabel(\"Portion\", labelpad=14)\n",
    "plt.title(f\"Portion of MVP awards receivers/none-receivers \\n'Raw Data'\", y=1.02);"
   ]
  },
  {
   "cell_type": "code",
   "execution_count": 55,
   "metadata": {},
   "outputs": [],
   "source": [
    "dbmf_flt.to_csv(\"MVPAward_Data_Filtered.csv\")"
   ]
  },
  {
   "cell_type": "code",
   "execution_count": 56,
   "metadata": {
    "scrolled": true
   },
   "outputs": [
    {
     "data": {
      "image/png": "[encoded data removed]",
      "text/plain": [
       "<Figure size 432x288 with 1 Axes>"
      ]
     },
     "metadata": {
      "needs_background": "light"
     },
     "output_type": "display_data"
    }
   ],
   "source": [
    "dbmf_flt[\"MVP\"].value_counts(normalize=True).plot(kind='bar');\n",
    "plt.xlabel(\"MVP\", labelpad=14)\n",
    "plt.ylabel(\"Portion\", labelpad=14)\n",
    "plt.title(f\"Portion of MVP awards receivers/none-receivers \\n'Raw Data'\", y=1.02);"
   ]
  },
  {
   "cell_type": "markdown",
   "metadata": {},
   "source": [
    "#### Dataset is balanced!"
   ]
  },
  {
   "cell_type": "markdown",
   "metadata": {},
   "source": [
    "#### spliting the data:"
   ]
  },
  {
   "cell_type": "code",
   "execution_count": null,
   "metadata": {},
   "outputs": [],
   "source": [
    "\n",
    "\n",
    "X = dbmf_flt[[\"BA\" ,\"OBP\",\"SLG\", \"HR\", \"RBI\",\"SB\"]]\n",
    "y = dbmf_flt[[\"MVP\"]]\n",
    "\n",
    "x_train, x_test, y_train, y_test = train_test_split (X,y, test_size = 0.2,random_state = 0)"
   ]
  },
  {
   "cell_type": "markdown",
   "metadata": {},
   "source": [
    "## Logistic Regression:"
   ]
  },
  {
   "cell_type": "code",
   "execution_count": null,
   "metadata": {},
   "outputs": [],
   "source": [
    "lr = linear_model.LogisticRegression()\n",
    "lr.fit(x_train,y_train)"
   ]
  },
  {
   "cell_type": "code",
   "execution_count": null,
   "metadata": {},
   "outputs": [],
   "source": [
    "lr.coef_"
   ]
  },
  {
   "cell_type": "code",
   "execution_count": null,
   "metadata": {},
   "outputs": [],
   "source": [
    "lr.intercept_"
   ]
  },
  {
   "cell_type": "code",
   "execution_count": null,
   "metadata": {},
   "outputs": [],
   "source": [
    "lr_train_pred = lr.predict(x_train)\n",
    "lr_test_pred = lr.predict(x_test)\n",
    "metrics.accuracy_score(y_train,lr_train_pred), metrics.accuracy_score(y_test,lr_test_pred)"
   ]
  },
  {
   "cell_type": "code",
   "execution_count": null,
   "metadata": {},
   "outputs": [],
   "source": [
    "#confusion matrix plot:\n",
    "test_cm = metrics.confusion_matrix(y_test,lr_test_pred)\n",
    "print(classification_report(y_test,lr_test_pred));\n",
    "print(test_cm);\n",
    "plt.matshow(test_cm);\n",
    "plt.title(\"Confusion Matrix\");\n",
    "plt.colorbar();\n",
    "plt.ylabel(\"True Label\");\n",
    "plt.xlabel(\"Predicted Label\");\n",
    "plt.figure();"
   ]
  },
  {
   "cell_type": "markdown",
   "metadata": {},
   "source": [
    "## Naïve Bayes"
   ]
  },
  {
   "cell_type": "code",
   "execution_count": null,
   "metadata": {},
   "outputs": [],
   "source": [
    "NB = GaussianNB()\n",
    "NB.fit(x_train,y_train)\n",
    "NB_train_pred = NB.predict(x_train)\n",
    "NB_test_pred = NB.predict(x_test)\n",
    "metrics.accuracy_score(y_train,NB_train_pred)"
   ]
  },
  {
   "cell_type": "code",
   "execution_count": null,
   "metadata": {},
   "outputs": [],
   "source": [
    "metrics.accuracy_score(y_test,NB_test_pred)"
   ]
  },
  {
   "cell_type": "code",
   "execution_count": null,
   "metadata": {},
   "outputs": [],
   "source": [
    "print(classification_report(y_test,NB_test_pred))\n",
    "#confusion matrix:\n",
    "test_cm = metrics.confusion_matrix(y_test,NB_test_pred)\n",
    "plt.figure()\n",
    "plt.matshow(test_cm)\n",
    "plt.title(\"Confusion Matrix\")\n",
    "plt.colorbar()\n",
    "plt.ylabel(\"True Label\")\n",
    "plt.xlabel(\"Predicted Label\");"
   ]
  },
  {
   "cell_type": "markdown",
   "metadata": {},
   "source": [
    "## Decision Tree"
   ]
  },
  {
   "cell_type": "code",
   "execution_count": null,
   "metadata": {},
   "outputs": [],
   "source": [
    "x_train, x_test, y_train, y_test = train_test_split (X,y, test_size = 0.3, random_state = 0)\n",
    "DT = tree.DecisionTreeClassifier(max_depth = 10, min_samples_split = 5)\n",
    "\n",
    "#-------------------\n",
    "DT.fit(x_train,y_train)\n",
    "DT_pred = DT.predict(x_test)"
   ]
  },
  {
   "cell_type": "code",
   "execution_count": null,
   "metadata": {
    "scrolled": true
   },
   "outputs": [],
   "source": [
    "test_cm = metrics.confusion_matrix(y_test,DT_pred)\n",
    "print(classification_report(y_test,DT_pred))\n",
    "#confusion matrix:\n",
    "plt.figure()\n",
    "plt.matshow(test_cm)\n",
    "plt.title(\"Confusion Matrix\")\n",
    "plt.colorbar()\n",
    "plt.ylabel(\"True Label\")\n",
    "plt.xlabel(\"Predicted Label\");\n",
    "print(test_cm);"
   ]
  },
  {
   "cell_type": "code",
   "execution_count": null,
   "metadata": {},
   "outputs": [],
   "source": [
    "#importance of each value:\n",
    "fi = DT.feature_importances_\n",
    "pd.DataFrame({'variable':x_test.columns,\n",
    "             'importance': fi })"
   ]
  },
  {
   "cell_type": "markdown",
   "metadata": {},
   "source": [
    "## Nerual Network"
   ]
  },
  {
   "cell_type": "code",
   "execution_count": null,
   "metadata": {},
   "outputs": [],
   "source": [
    "scaler = MinMaxScaler()\n",
    "X = dbmf_flt[[\"BA\" ,\"OBP\",\"SLG\", \"HR\", \"RBI\",\"SB\"]]\n",
    "y = dbmf_flt[[\"MVP\"]]\n",
    "\n",
    "\n",
    "x_train, x_test, y_train, y_test = train_test_split (X,y, test_size = 0.3, random_state = 0)\n",
    "# #-------------------\n",
    "x_train_scaled = scaler.fit_transform(x_train)\n",
    "x_test_scaled = scaler.fit_transform(x_test)\n",
    "NN = MLPClassifier(solver='lbfgs',alpha=0.5,\n",
    "                   hidden_layer_sizes=(10,4),random_state=1)\n",
    "NN.fit(x_train_scaled,y_train)\n",
    "#prediction model:\n",
    "NN_pred = NN.predict(x_test_scaled)\n",
    "metrics.accuracy_score(NN_pred, y_test)"
   ]
  },
  {
   "cell_type": "code",
   "execution_count": null,
   "metadata": {},
   "outputs": [],
   "source": [
    "print(classification_report(y_test,NN_pred))\n",
    "test_cm = metrics.confusion_matrix(y_test,NN_pred)\n",
    "plt.figure()\n",
    "plt.matshow(test_cm)\n",
    "plt.title(\"Confusion Matrix\")\n",
    "plt.colorbar()\n",
    "plt.ylabel(\"True Label\")\n",
    "plt.xlabel(\"Predicted Label\");\n",
    "test_cm = metrics.confusion_matrix(y_test,NN_pred)\n",
    "print(test_cm)"
   ]
  },
  {
   "cell_type": "markdown",
   "metadata": {},
   "source": [
    "## Support Vector Machine\n"
   ]
  },
  {
   "cell_type": "code",
   "execution_count": null,
   "metadata": {},
   "outputs": [],
   "source": [
    "scaler = MinMaxScaler()\n",
    "x_train, x_test, y_train, y_test = train_test_split (X,y, test_size = 0.8, random_state = 0)\n",
    "# -------------------\n",
    "x_train_scaled = scaler.fit_transform(x_train)\n",
    "x_test_scaled = scaler.fit_transform(x_test)\n",
    "#SVM Linear:\n",
    "svm_linear = svm.SVC(kernel='linear')\n",
    "svm_linear.fit(x_train_scaled,y_train)\n",
    "svm_linear.coef_"
   ]
  },
  {
   "cell_type": "code",
   "execution_count": null,
   "metadata": {},
   "outputs": [],
   "source": [
    "svm_linear_pred = svm_linear.predict(x_test_scaled)\n",
    "metrics.accuracy_score(y_test,svm_linear_pred)"
   ]
  },
  {
   "cell_type": "code",
   "execution_count": null,
   "metadata": {},
   "outputs": [],
   "source": [
    "\n",
    "test_cm = metrics.confusion_matrix(y_test,svm_linear_pred)\n",
    "plt.figure()\n",
    "plt.matshow(test_cm)\n",
    "plt.title(\"Confusion Matrix\")\n",
    "plt.colorbar()\n",
    "plt.ylabel(\"True Label\")\n",
    "plt.xlabel(\"Predicted Label\");\n",
    "print(classification_report(y_test,svm_linear_pred))\n",
    "print(test_cm)\n",
    "#All other SVM methods (RBF, Poly) gave the same results, so I just put the Linear method in the report:"
   ]
  },
  {
   "cell_type": "markdown",
   "metadata": {},
   "source": [
    "## Random Forest"
   ]
  },
  {
   "cell_type": "code",
   "execution_count": null,
   "metadata": {},
   "outputs": [],
   "source": [
    "x_train, x_test, y_train, y_test = train_test_split (X,y, test_size = 0.2, random_state = 0)\n",
    "from sklearn.ensemble import RandomForestClassifier\n",
    "RF = RandomForestClassifier(n_estimators=100,random_state=0)\n",
    "RF.fit(x_train,y_train)"
   ]
  },
  {
   "cell_type": "code",
   "execution_count": null,
   "metadata": {},
   "outputs": [],
   "source": [
    "RF_pred = RF.predict(x_test)\n",
    "metrics.accuracy_score(RF_pred,y_test)"
   ]
  },
  {
   "cell_type": "code",
   "execution_count": null,
   "metadata": {},
   "outputs": [],
   "source": [
    "print(classification_report(y_test,RF_pred))"
   ]
  },
  {
   "cell_type": "code",
   "execution_count": null,
   "metadata": {},
   "outputs": [],
   "source": [
    "fi = RF.feature_importances_\n",
    "pd.DataFrame({'variable':x_test.columns,\n",
    "             'importance': fi })"
   ]
  },
  {
   "cell_type": "code",
   "execution_count": null,
   "metadata": {},
   "outputs": [],
   "source": [
    "from sklearn.model_selection import cross_val_score\n",
    "n_estimator = range(2,100,2)\n",
    "accuracy = []\n",
    "for i in n_estimator:\n",
    "    RF = RandomForestClassifier(n_estimators = i, random_state = 0)\n",
    "    scores = cross_val_score(RF,x_train,y_train)\n",
    "    accuracy.append(scores.mean());"
   ]
  },
  {
   "cell_type": "code",
   "execution_count": null,
   "metadata": {},
   "outputs": [],
   "source": [
    "fig = plt.figure();\n",
    "ax0 = fig.add_subplot(111)\n",
    "ymax = max(accuracy)\n",
    "xpos = accuracy.index(ymax)\n",
    "xmax = n_estimator[xpos]\n",
    "plt.plot(n_estimator,accuracy);\n",
    "plt.xlabel(\"n_estimator\");\n",
    "plt.ylabel(\"Accuracy\");\n",
    "plt.title(\"Accuracy vs. n_estimator\");\n",
    "txt = f\"max accuracy:{round(ymax,12)}\"\n",
    "ax0.set_ylim(0.4,0.9);\n",
    "ax0.annotate(txt, xy=(xmax, ymax), xytext=(xmax, ymax+0.03),\n",
    "arrowprops=dict(facecolor='blue', shrink=0.05),);"
   ]
  },
  {
   "cell_type": "markdown",
   "metadata": {},
   "source": [
    "## AdaBoost Classifier"
   ]
  },
  {
   "cell_type": "code",
   "execution_count": null,
   "metadata": {},
   "outputs": [],
   "source": [
    "from sklearn.ensemble import AdaBoostClassifier\n",
    "n_estimator = list(range(1,100,2))\n",
    "accuracy = []\n",
    "for i in n_estimator:\n",
    "    Ada = AdaBoostClassifier(n_estimators = i, learning_rate=0.005, random_state=21)\n",
    "    scores = cross_val_score(Ada,x_train,y_train)\n",
    "    accuracy.append(scores.mean())"
   ]
  },
  {
   "cell_type": "code",
   "execution_count": null,
   "metadata": {},
   "outputs": [],
   "source": [
    "fig = plt.figure();\n",
    "ax = fig.add_subplot(111)\n",
    "plt.plot(n_estimator,accuracy)\n",
    "plt.xlabel(\"n_estimators\")\n",
    "plt.ylabel(\"Accuracy\")\n",
    "plt.title(\"Adaboost Accuracy\");\n",
    "ymax = max(accuracy)\n",
    "xpos = accuracy.index(ymax)\n",
    "xmax = n_estimator[xpos]\n",
    "txt = f\"max accuracy:{round(ymax,3)}\"\n",
    "ax.annotate(txt, xy=(xmax, ymax), xytext=(xmax, ymax+0.0029),\n",
    "arrowprops=dict(facecolor='red', shrink=1),)\n",
    "ax.set_ylim(0.100,1.00);"
   ]
  }
 ],
 "metadata": {
  "kernelspec": {
   "display_name": "Python 3",
   "language": "python",
   "name": "python3"
  },
  "language_info": {
   "codemirror_mode": {
    "name": "ipython",
    "version": 3
   },
   "file_extension": ".py",
   "mimetype": "text/x-python",
   "name": "python",
   "nbconvert_exporter": "python",
   "pygments_lexer": "ipython3",
   "version": "3.7.4"
  }
 },
 "nbformat": 4,
 "nbformat_minor": 2
}
